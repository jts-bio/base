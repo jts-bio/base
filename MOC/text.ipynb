{
 "cells": [
  {
   "cell_type": "code",
   "execution_count": 3,
   "metadata": {},
   "outputs": [],
   "source": [
    "import pandas as pd\n",
    "import re"
   ]
  },
  {
   "cell_type": "code",
   "execution_count": 4,
   "metadata": {},
   "outputs": [
    {
     "data": {
      "text/plain": [
       "['# MOC\\n',\n",
       " '\\n',\n",
       " '## Tubing\\n',\n",
       " '\\n',\n",
       " 'Table 1A\\n',\n",
       " '<Table>\\n',\n",
       " '\\n',\n",
       " '1|2|3\\n',\n",
       " ':--:|:--:|--:\\n',\n",
       " '1|3|3\\n',\n",
       " 'inflict|pain|on me\\n',\n",
       " '\\n',\n",
       " '</Table>\\n',\n",
       " '\\n',\n",
       " '---\\n',\n",
       " '\\n',\n",
       " '## NDEHP\\n',\n",
       " '\\n',\n",
       " '- etoposide\\n',\n",
       " '- paclitaxel\\n',\n",
       " '- docetaxel\\n',\n",
       " '- cabazitaxel\\n',\n",
       " '\\n',\n",
       " '---']"
      ]
     },
     "execution_count": 4,
     "metadata": {},
     "output_type": "execute_result"
    }
   ],
   "source": [
    "md = open(\"text.md\",\"r\")\n",
    "lines = md.readlines()\n",
    "md.close()\n",
    "lines"
   ]
  },
  {
   "cell_type": "code",
   "execution_count": 5,
   "metadata": {},
   "outputs": [],
   "source": [
    "def getHeadings (lines):\n",
    "   headings = []\n",
    "   for x in lines:\n",
    "      if x.startswith(\"## \"):\n",
    "         sub = re.sub(\"## \",\"\",x)\n",
    "         sub = re.sub(\"\\n\",\"\",sub)\n",
    "         headings.append(sub)\n",
    "   return headings"
   ]
  },
  {
   "cell_type": "code",
   "execution_count": 6,
   "metadata": {},
   "outputs": [],
   "source": [
    "HEADINGS = getHeadings (lines)"
   ]
  },
  {
   "cell_type": "code",
   "execution_count": 13,
   "metadata": {},
   "outputs": [
    {
     "data": {
      "text/plain": [
       "',HEADINGS\\n0,Tubing\\n1,NDEHP\\n'"
      ]
     },
     "execution_count": 13,
     "metadata": {},
     "output_type": "execute_result"
    }
   ],
   "source": [
    "df = pd.DataFrame(HEADINGS, columns=[\"HEADINGS\"])\n",
    "df.to_csv()"
   ]
  }
 ],
 "metadata": {
  "interpreter": {
   "hash": "4f946df053fbf2b937619d3c5458e7af74262f9a954d8797ba0b27400bcafe06"
  },
  "kernelspec": {
   "display_name": "Python 3.8.12 64-bit",
   "language": "python",
   "name": "python3"
  },
  "language_info": {
   "codemirror_mode": {
    "name": "ipython",
    "version": 3
   },
   "file_extension": ".py",
   "mimetype": "text/x-python",
   "name": "python",
   "nbconvert_exporter": "python",
   "pygments_lexer": "ipython3",
   "version": "3.8.12"
  },
  "orig_nbformat": 4
 },
 "nbformat": 4,
 "nbformat_minor": 2
}
