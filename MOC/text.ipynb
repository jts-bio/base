{
 "cells": [
  {
   "cell_type": "code",
   "execution_count": 3,
   "metadata": {},
   "outputs": [],
   "source": [
    "import pandas as pd\n",
    "import re\n",
    "import yaml"
   ]
  },
  {
   "cell_type": "code",
   "execution_count": 4,
   "metadata": {},
   "outputs": [],
   "source": [
    "yml = open(\"/workspaces/base/MOC/recon.yml\",\"r\").read()\n",
    "dic = yaml.load(yml,Loader=yaml.Loader)\n",
    "df = pd.DataFrame(dic).T\n",
    "\n",
    "df['recon_expands'] = df['fv'] - df['v']\n",
    "df['conc_vial'] = df['s'] / df['fv']"
   ]
  },
  {
   "cell_type": "code",
   "execution_count": 6,
   "metadata": {},
   "outputs": [
    {
     "data": {
      "text/html": [
       "<style type=\"text/css\">\n",
       "</style>\n",
       "<table id=\"T_5152d\">\n",
       "  <thead>\n",
       "    <tr>\n",
       "      <th class=\"blank level0\" >&nbsp;</th>\n",
       "      <th id=\"T_5152d_level0_col0\" class=\"col_heading level0 col0\" >s</th>\n",
       "      <th id=\"T_5152d_level0_col1\" class=\"col_heading level0 col1\" >v</th>\n",
       "      <th id=\"T_5152d_level0_col2\" class=\"col_heading level0 col2\" >d</th>\n",
       "      <th id=\"T_5152d_level0_col3\" class=\"col_heading level0 col3\" >fv</th>\n",
       "      <th id=\"T_5152d_level0_col4\" class=\"col_heading level0 col4\" >recon_expands</th>\n",
       "      <th id=\"T_5152d_level0_col5\" class=\"col_heading level0 col5\" >conc_vial</th>\n",
       "    </tr>\n",
       "  </thead>\n",
       "  <tbody>\n",
       "    <tr>\n",
       "      <th id=\"T_5152d_level0_row0\" class=\"row_heading level0 row0\" >ZERBAXA 1.5g</th>\n",
       "      <td id=\"T_5152d_row0_col0\" class=\"data row0 col0\" >1500 mg</td>\n",
       "      <td id=\"T_5152d_row0_col1\" class=\"data row0 col1\" >10 mL</td>\n",
       "      <td id=\"T_5152d_row0_col2\" class=\"data row0 col2\" >SWFI</td>\n",
       "      <td id=\"T_5152d_row0_col3\" class=\"data row0 col3\" >11.4 mL</td>\n",
       "      <td id=\"T_5152d_row0_col4\" class=\"data row0 col4\" >1.4 mL</td>\n",
       "      <td id=\"T_5152d_row0_col5\" class=\"data row0 col5\" >131.579 mg/mL</td>\n",
       "    </tr>\n",
       "    <tr>\n",
       "      <th id=\"T_5152d_level0_row1\" class=\"row_heading level0 row1\" >CEFTRIAXONE 1g</th>\n",
       "      <td id=\"T_5152d_row1_col0\" class=\"data row1 col0\" >1000 mg</td>\n",
       "      <td id=\"T_5152d_row1_col1\" class=\"data row1 col1\" >9.6 mL</td>\n",
       "      <td id=\"T_5152d_row1_col2\" class=\"data row1 col2\" >SWFI</td>\n",
       "      <td id=\"T_5152d_row1_col3\" class=\"data row1 col3\" >10 mL</td>\n",
       "      <td id=\"T_5152d_row1_col4\" class=\"data row1 col4\" >0.4 mL</td>\n",
       "      <td id=\"T_5152d_row1_col5\" class=\"data row1 col5\" >100 mg/mL</td>\n",
       "    </tr>\n",
       "    <tr>\n",
       "      <th id=\"T_5152d_level0_row2\" class=\"row_heading level0 row2\" >DAPTOMYCIN 500mg</th>\n",
       "      <td id=\"T_5152d_row2_col0\" class=\"data row2 col0\" >500 mg</td>\n",
       "      <td id=\"T_5152d_row2_col1\" class=\"data row2 col1\" >10 mL</td>\n",
       "      <td id=\"T_5152d_row2_col2\" class=\"data row2 col2\" >NS</td>\n",
       "      <td id=\"T_5152d_row2_col3\" class=\"data row2 col3\" >10 mL</td>\n",
       "      <td id=\"T_5152d_row2_col4\" class=\"data row2 col4\" >0 mL</td>\n",
       "      <td id=\"T_5152d_row2_col5\" class=\"data row2 col5\" >50 mg/mL</td>\n",
       "    </tr>\n",
       "    <tr>\n",
       "      <th id=\"T_5152d_level0_row3\" class=\"row_heading level0 row3\" >DAPTOMYCIN 350mg</th>\n",
       "      <td id=\"T_5152d_row3_col0\" class=\"data row3 col0\" >350 mg</td>\n",
       "      <td id=\"T_5152d_row3_col1\" class=\"data row3 col1\" >7 mL</td>\n",
       "      <td id=\"T_5152d_row3_col2\" class=\"data row3 col2\" >NS</td>\n",
       "      <td id=\"T_5152d_row3_col3\" class=\"data row3 col3\" >7 mL</td>\n",
       "      <td id=\"T_5152d_row3_col4\" class=\"data row3 col4\" >0 mL</td>\n",
       "      <td id=\"T_5152d_row3_col5\" class=\"data row3 col5\" >50 mg/mL</td>\n",
       "    </tr>\n",
       "  </tbody>\n",
       "</table>\n"
      ],
      "text/plain": [
       "<pandas.io.formats.style.Styler at 0x7feb7fcede70>"
      ]
     },
     "execution_count": 6,
     "metadata": {},
     "output_type": "execute_result"
    }
   ],
   "source": [
    "dfstyler = {\n",
    "   's':              \"{:g} mg\",\n",
    "   'v':              \"{:g} mL\",\n",
    "   'fv':             \"{:g} mL\",\n",
    "   'recon_expands':  \"{:g} mL\",\n",
    "   'conc_vial':           \"{:g} mg/mL\"\n",
    "}\n",
    "\n",
    "DF = df.style.format( dfstyler )\n",
    "DF"
   ]
  },
  {
   "cell_type": "code",
   "execution_count": 8,
   "metadata": {},
   "outputs": [],
   "source": [
    "f = open(\"/workspaces/base/Output/Recon.html\",\"w\")\n",
    "f.write(DF.to_html())\n",
    "f.close()"
   ]
  },
  {
   "cell_type": "code",
   "execution_count": null,
   "metadata": {},
   "outputs": [],
   "source": []
  }
 ],
 "metadata": {
  "interpreter": {
   "hash": "4f946df053fbf2b937619d3c5458e7af74262f9a954d8797ba0b27400bcafe06"
  },
  "kernelspec": {
   "display_name": "Python 3.8.12 64-bit",
   "language": "python",
   "name": "python3"
  },
  "language_info": {
   "codemirror_mode": {
    "name": "ipython",
    "version": 3
   },
   "file_extension": ".py",
   "mimetype": "text/x-python",
   "name": "python",
   "nbconvert_exporter": "python",
   "pygments_lexer": "ipython3",
   "version": "3.10.4"
  },
  "orig_nbformat": 4
 },
 "nbformat": 4,
 "nbformat_minor": 2
}
