{
 "cells": [
  {
   "cell_type": "code",
   "execution_count": 1,
   "metadata": {},
   "outputs": [],
   "source": [
    "import re\n",
    "import random"
   ]
  },
  {
   "cell_type": "code",
   "execution_count": 2,
   "metadata": {},
   "outputs": [],
   "source": [
    "def yml_to_csv (rawtext:str) :\n",
    "   s = re.sub (\"\\s:\\s\",\",\",rawtext)\n",
    "   return s\n",
    "\n",
    "def savecsv (p,t) :\n",
    "   f = open (p,\"w\")\n",
    "   f.write (t)\n",
    "   f.close ()"
   ]
  },
  {
   "cell_type": "code",
   "execution_count": 3,
   "metadata": {},
   "outputs": [],
   "source": [
    "text = \"\"\"\\\n",
    "Pembrolizumab : F\n",
    "Pertuzumab : 1\n",
    "Rituxumab : 1\n",
    "Azacitidine : 1\n",
    "Paclitaxel : F\n",
    "\"\"\"\n",
    "\n",
    "d = yml_to_csv (text)\n",
    "savecsv(\"tubing.csv\",d)"
   ]
  },
  {
   "cell_type": "code",
   "execution_count": 5,
   "metadata": {},
   "outputs": [
    {
     "name": "stdout",
     "output_type": "stream",
     "text": [
      "# OF SHIFTS: 8\n",
      "(['MI', '7C', '7P', 'S', 'EI', 'EP', '3', 'N'])\n"
     ]
    }
   ],
   "source": [
    "shf = \"MI 7C 7P S EI EP 3 N\".split(\" \")\n",
    "print (f'# OF SHIFTS: {len(shf)}\\n({shf})')"
   ]
  },
  {
   "cell_type": "code",
   "execution_count": 8,
   "metadata": {},
   "outputs": [
    {
     "data": {
      "text/plain": [
       "{'MI': [2, 1],\n",
       " '7C': [4, 1],\n",
       " '7P': [7, 7],\n",
       " 'S': [7, 6],\n",
       " 'EI': [3, 1],\n",
       " 'EP': [7, 0],\n",
       " '3': [6, 6],\n",
       " 'N': [0, 7]}"
      ]
     },
     "execution_count": 8,
     "metadata": {},
     "output_type": "execute_result"
    }
   ],
   "source": [
    "random.seed(1)\n",
    "dic = {x:[random.randint (0,7),random.randint (0,7)] for x in shf} \n",
    "dic"
   ]
  },
  {
   "cell_type": "code",
   "execution_count": 11,
   "metadata": {},
   "outputs": [],
   "source": [
    "def visualize(dic):\n",
    "   \"\"\" Visualize a directed multigraph using graphviz \"\"\"\n",
    "\n",
    "   dot_str = 'digraph \"DeBruijn graph\" {\\n'\n",
    "   for node in dic.keys():\n",
    "      dot_str += '  %s [label=\"%s\"] ;\\n' % (node, node)\n",
    "   for i in dic.values():\n",
    "      dot_str += '  %s -> %s ;\\n' % (i[0], i[1])\n",
    "   return dot_str + '}\\n'"
   ]
  },
  {
   "cell_type": "code",
   "execution_count": 12,
   "metadata": {},
   "outputs": [
    {
     "ename": "IndentationError",
     "evalue": "unexpected indent (2190637889.py, line 3)",
     "output_type": "error",
     "traceback": [
      "\u001b[0;36m  Input \u001b[0;32mIn [12]\u001b[0;36m\u001b[0m\n\u001b[0;31m    subgraph cluster0 { packmode=array\u001b[0m\n\u001b[0m    ^\u001b[0m\n\u001b[0;31mIndentationError\u001b[0m\u001b[0;31m:\u001b[0m unexpected indent\n"
     ]
    }
   ],
   "source": [
    "%load_ext gvmagic\n",
    "%dotstr digraph test123 { pack=8\n",
    "   subgraph cluster0 { packmode=array\n",
    "   x y x0 y0 x1 subgraph cluster1 {\n",
    "   mn }\n",
    "   }\n",
    "   b [shape=box];\n",
    "   c [label=\"hello\\nworld\",color=blue,fontsize=24,\n",
    "   fontname=\"Palatino−Italic\",fontcolor=red,style=filled];\n",
    "   a −> z\n",
    "   x −> z\n",
    "   a −> b −> c;\n",
    "   a −> {x y};\n",
    "   edge [style=dashed,color=red]; b −> x;\n",
    "   }\n"
   ]
  },
  {
   "cell_type": "code",
   "execution_count": 20,
   "metadata": {},
   "outputs": [],
   "source": [
    "import pydot\n",
    "\n",
    "%load_ext autoreload\n",
    "%autoreload 2\n",
    "from IPython.display import Image, display\n",
    "def viewPydot(pdot):\n",
    "    display(Image(pdot.create_png()))\n",
    "\n",
    "dot_string = \"\"\"graph my_graph {\n",
    "    bgcolor=\"yellow\";\n",
    "    a [label=\"Foo\"];\n",
    "    b [shape=circle];\n",
    "    a -- b -- c [color=blue];\n",
    "}\"\"\"\n",
    "\n",
    "graphs = pydot.graph_from_dot_data(dot_string)\n",
    "graph = graphs[0]\n",
    "graph = pydot.Dot(\"my_graph\", graph_type=\"graph\", bgcolor=\"yellow\")\n",
    "\n",
    "# Add nodes\n",
    "my_node = pydot.Node(\"a\", label=\"Foo\")\n",
    "graph.add_node(my_node)\n",
    "# Or, without using an intermediate variable:\n",
    "graph.add_node(pydot.Node(\"b\", shape=\"circle\"))\n",
    "\n",
    "# Add edges\n",
    "my_edge = pydot.Edge(\"a\", \"b\", color=\"blue\")\n",
    "graph.add_edge(my_edge)\n",
    "# Or, without using an intermediate variable:\n",
    "graph.add_edge(pydot.Edge(\"b\", \"c\", color=\"blue\"))"
   ]
  },
  {
   "cell_type": "code",
   "execution_count": 22,
   "metadata": {},
   "outputs": [
    {
     "name": "stdout",
     "output_type": "stream",
     "text": [
      "Collecting schemdraw\n",
      "  Downloading schemdraw-0.14-py3-none-any.whl (105 kB)\n",
      "\u001b[2K     \u001b[90m━━━━━━━━━━━━━━━━━━━━━━━━━━━━━━━━━━━━━━━\u001b[0m \u001b[32m105.7/105.7 KB\u001b[0m \u001b[31m4.3 MB/s\u001b[0m eta \u001b[36m0:00:00\u001b[0m\n",
      "\u001b[?25hInstalling collected packages: schemdraw\n",
      "Successfully installed schemdraw-0.14\n",
      "\u001b[33mWARNING: You are using pip version 22.0.3; however, version 22.0.4 is available.\n",
      "You should consider upgrading via the '/opt/python/latest/bin/python3 -m pip install --upgrade pip' command.\u001b[0m\u001b[33m\n",
      "\u001b[0mCollecting pydotplus\n",
      "  Downloading pydotplus-2.0.2.tar.gz (278 kB)\n",
      "\u001b[2K     \u001b[90m━━━━━━━━━━━━━━━━━━━━━━━━━━━━━━━━━━━━━━━\u001b[0m \u001b[32m278.7/278.7 KB\u001b[0m \u001b[31m9.5 MB/s\u001b[0m eta \u001b[36m0:00:00\u001b[0m\n",
      "\u001b[?25h  Preparing metadata (setup.py) ... \u001b[?25ldone\n",
      "\u001b[?25hRequirement already satisfied: pyparsing>=2.0.1 in /opt/python/3.8.12/lib/python3.8/site-packages (from pydotplus) (3.0.7)\n",
      "Building wheels for collected packages: pydotplus\n",
      "  Building wheel for pydotplus (setup.py) ... \u001b[?25ldone\n",
      "\u001b[?25h  Created wheel for pydotplus: filename=pydotplus-2.0.2-py3-none-any.whl size=24575 sha256=2ff1d3191b8212d9f6d06943cb39290cfb059e3259c2903878905ee1e4897a73\n",
      "  Stored in directory: /home/codespace/.cache/pip/wheels/fe/cd/78/a7e873cc049759194f8271f780640cf96b35e5a48bef0e2f36\n",
      "Successfully built pydotplus\n",
      "Installing collected packages: pydotplus\n",
      "Successfully installed pydotplus-2.0.2\n",
      "\u001b[33mWARNING: You are using pip version 22.0.3; however, version 22.0.4 is available.\n",
      "You should consider upgrading via the '/opt/python/latest/bin/python3 -m pip install --upgrade pip' command.\u001b[0m\u001b[33m\n",
      "\u001b[0m\u001b[1;31mE: \u001b[0mCould not open lock file /var/lib/dpkg/lock-frontend - open (13: Permission denied)\u001b[0m\n",
      "\u001b[1;31mE: \u001b[0mUnable to acquire the dpkg frontend lock (/var/lib/dpkg/lock-frontend), are you root?\u001b[0m\n",
      "Collecting graphviz\n",
      "  Downloading graphviz-0.19.1-py3-none-any.whl (46 kB)\n",
      "\u001b[2K     \u001b[90m━━━━━━━━━━━━━━━━━━━━━━━━━━━━━━━━━━━━━━━━\u001b[0m \u001b[32m46.3/46.3 KB\u001b[0m \u001b[31m1.9 MB/s\u001b[0m eta \u001b[36m0:00:00\u001b[0m\n",
      "\u001b[?25hInstalling collected packages: graphviz\n",
      "Successfully installed graphviz-0.19.1\n",
      "\u001b[33mWARNING: You are using pip version 22.0.3; however, version 22.0.4 is available.\n",
      "You should consider upgrading via the '/opt/python/latest/bin/python3 -m pip install --upgrade pip' command.\u001b[0m\u001b[33m\n",
      "\u001b[0m"
     ]
    }
   ],
   "source": [
    "!pip install schemdraw\n",
    "!pip install pydotplus\n",
    "!apt install -y graphviz\n",
    "!pip install graphviz"
   ]
  },
  {
   "cell_type": "code",
   "execution_count": 28,
   "metadata": {},
   "outputs": [],
   "source": [
    "import pydotplus\n",
    "import networkx as nx\n",
    "def nxgraph(G):\n",
    "    P = pydotplus.graph_from_dot_data(G)\n",
    "    return nx.drawing.nx_pydot.from_pydot(P)"
   ]
  },
  {
   "cell_type": "code",
   "execution_count": 25,
   "metadata": {},
   "outputs": [
    {
     "name": "stdout",
     "output_type": "stream",
     "text": [
      "Collecting networkx\n",
      "  Downloading networkx-2.7.1-py3-none-any.whl (2.0 MB)\n",
      "\u001b[2K     \u001b[90m━━━━━━━━━━━━━━━━━━━━━━━━━━━━━━━━━━━━━━━━\u001b[0m \u001b[32m2.0/2.0 MB\u001b[0m \u001b[31m32.0 MB/s\u001b[0m eta \u001b[36m0:00:00\u001b[0m00:01\u001b[0m\n",
      "\u001b[?25hInstalling collected packages: networkx\n",
      "Successfully installed networkx-2.7.1\n",
      "\u001b[33mWARNING: You are using pip version 22.0.3; however, version 22.0.4 is available.\n",
      "You should consider upgrading via the '/opt/python/latest/bin/python -m pip install --upgrade pip' command.\u001b[0m\u001b[33m\n",
      "\u001b[0mNote: you may need to restart the kernel to use updated packages.\n"
     ]
    }
   ],
   "source": [
    "%pip install networkx"
   ]
  },
  {
   "cell_type": "code",
   "execution_count": 29,
   "metadata": {},
   "outputs": [
    {
     "ename": "TypeError",
     "evalue": "object of type 'Dot' has no len()",
     "output_type": "error",
     "traceback": [
      "\u001b[0;31m---------------------------------------------------------------------------\u001b[0m",
      "\u001b[0;31mTypeError\u001b[0m                                 Traceback (most recent call last)",
      "\u001b[1;32m/workspaces/base/MOC/tubing.ipynb Cell 14'\u001b[0m in \u001b[0;36m<cell line: 1>\u001b[0;34m()\u001b[0m\n\u001b[0;32m----> <a href='vscode-notebook-cell://codespaces%2Bjsteinbecker-jts-bio-base-wrx46jv4p2vgp6/workspaces/base/MOC/tubing.ipynb#ch0000014vscode-remote?line=0'>1</a>\u001b[0m nxgraph(graph)\n",
      "\u001b[1;32m/workspaces/base/MOC/tubing.ipynb Cell 12'\u001b[0m in \u001b[0;36mnxgraph\u001b[0;34m(G)\u001b[0m\n\u001b[1;32m      <a href='vscode-notebook-cell://codespaces%2Bjsteinbecker-jts-bio-base-wrx46jv4p2vgp6/workspaces/base/MOC/tubing.ipynb#ch0000012vscode-remote?line=2'>3</a>\u001b[0m \u001b[39mdef\u001b[39;00m \u001b[39mnxgraph\u001b[39m(G):\n\u001b[0;32m----> <a href='vscode-notebook-cell://codespaces%2Bjsteinbecker-jts-bio-base-wrx46jv4p2vgp6/workspaces/base/MOC/tubing.ipynb#ch0000012vscode-remote?line=3'>4</a>\u001b[0m     P \u001b[39m=\u001b[39m pydotplus\u001b[39m.\u001b[39;49mgraph_from_dot_data(G)\n\u001b[1;32m      <a href='vscode-notebook-cell://codespaces%2Bjsteinbecker-jts-bio-base-wrx46jv4p2vgp6/workspaces/base/MOC/tubing.ipynb#ch0000012vscode-remote?line=4'>5</a>\u001b[0m     \u001b[39mreturn\u001b[39;00m nx\u001b[39m.\u001b[39mdrawing\u001b[39m.\u001b[39mnx_pydot\u001b[39m.\u001b[39mfrom_pydot(P)\n",
      "File \u001b[0;32m/opt/python/3.8.12/lib/python3.8/site-packages/pydotplus/graphviz.py:302\u001b[0m, in \u001b[0;36mgraph_from_dot_data\u001b[0;34m(data)\u001b[0m\n\u001b[1;32m    <a href='file:///opt/python/3.8.12/lib/python3.8/site-packages/pydotplus/graphviz.py?line=293'>294</a>\u001b[0m \u001b[39mdef\u001b[39;00m \u001b[39mgraph_from_dot_data\u001b[39m(data):\n\u001b[1;32m    <a href='file:///opt/python/3.8.12/lib/python3.8/site-packages/pydotplus/graphviz.py?line=294'>295</a>\u001b[0m     \u001b[39m\"\"\"Load graph as defined by data in DOT format.\u001b[39;00m\n\u001b[1;32m    <a href='file:///opt/python/3.8.12/lib/python3.8/site-packages/pydotplus/graphviz.py?line=295'>296</a>\u001b[0m \n\u001b[1;32m    <a href='file:///opt/python/3.8.12/lib/python3.8/site-packages/pydotplus/graphviz.py?line=296'>297</a>\u001b[0m \u001b[39m    The data is assumed to be in DOT format. It will\u001b[39;00m\n\u001b[1;32m    <a href='file:///opt/python/3.8.12/lib/python3.8/site-packages/pydotplus/graphviz.py?line=297'>298</a>\u001b[0m \u001b[39m    be parsed and a Dot class will be returned,\u001b[39;00m\n\u001b[1;32m    <a href='file:///opt/python/3.8.12/lib/python3.8/site-packages/pydotplus/graphviz.py?line=298'>299</a>\u001b[0m \u001b[39m    representing the graph.\u001b[39;00m\n\u001b[1;32m    <a href='file:///opt/python/3.8.12/lib/python3.8/site-packages/pydotplus/graphviz.py?line=299'>300</a>\u001b[0m \u001b[39m    \"\"\"\u001b[39;00m\n\u001b[0;32m--> <a href='file:///opt/python/3.8.12/lib/python3.8/site-packages/pydotplus/graphviz.py?line=301'>302</a>\u001b[0m     \u001b[39mreturn\u001b[39;00m parser\u001b[39m.\u001b[39;49mparse_dot_data(data)\n",
      "File \u001b[0;32m/opt/python/3.8.12/lib/python3.8/site-packages/pydotplus/parser.py:558\u001b[0m, in \u001b[0;36mparse_dot_data\u001b[0;34m(data)\u001b[0m\n\u001b[1;32m    <a href='file:///opt/python/3.8.12/lib/python3.8/site-packages/pydotplus/parser.py?line=554'>555</a>\u001b[0m \u001b[39mif\u001b[39;00m pyparsing_version \u001b[39m>\u001b[39m\u001b[39m=\u001b[39m \u001b[39m'\u001b[39m\u001b[39m1.2\u001b[39m\u001b[39m'\u001b[39m:\n\u001b[1;32m    <a href='file:///opt/python/3.8.12/lib/python3.8/site-packages/pydotplus/parser.py?line=555'>556</a>\u001b[0m     graphparser\u001b[39m.\u001b[39mparseWithTabs()\n\u001b[0;32m--> <a href='file:///opt/python/3.8.12/lib/python3.8/site-packages/pydotplus/parser.py?line=557'>558</a>\u001b[0m tokens \u001b[39m=\u001b[39m graphparser\u001b[39m.\u001b[39;49mparseString(data)\n\u001b[1;32m    <a href='file:///opt/python/3.8.12/lib/python3.8/site-packages/pydotplus/parser.py?line=559'>560</a>\u001b[0m \u001b[39mif\u001b[39;00m \u001b[39mlen\u001b[39m(tokens) \u001b[39m==\u001b[39m \u001b[39m1\u001b[39m:\n\u001b[1;32m    <a href='file:///opt/python/3.8.12/lib/python3.8/site-packages/pydotplus/parser.py?line=560'>561</a>\u001b[0m     \u001b[39mreturn\u001b[39;00m tokens[\u001b[39m0\u001b[39m]\n",
      "File \u001b[0;32m/opt/python/3.8.12/lib/python3.8/site-packages/pyparsing/core.py:1124\u001b[0m, in \u001b[0;36mParserElement.parse_string\u001b[0;34m(self, instring, parse_all, parseAll)\u001b[0m\n\u001b[1;32m   <a href='file:///opt/python/3.8.12/lib/python3.8/site-packages/pyparsing/core.py?line=1121'>1122</a>\u001b[0m     instring \u001b[39m=\u001b[39m instring\u001b[39m.\u001b[39mexpandtabs()\n\u001b[1;32m   <a href='file:///opt/python/3.8.12/lib/python3.8/site-packages/pyparsing/core.py?line=1122'>1123</a>\u001b[0m \u001b[39mtry\u001b[39;00m:\n\u001b[0;32m-> <a href='file:///opt/python/3.8.12/lib/python3.8/site-packages/pyparsing/core.py?line=1123'>1124</a>\u001b[0m     loc, tokens \u001b[39m=\u001b[39m \u001b[39mself\u001b[39;49m\u001b[39m.\u001b[39;49m_parse(instring, \u001b[39m0\u001b[39;49m)\n\u001b[1;32m   <a href='file:///opt/python/3.8.12/lib/python3.8/site-packages/pyparsing/core.py?line=1124'>1125</a>\u001b[0m     \u001b[39mif\u001b[39;00m parseAll:\n\u001b[1;32m   <a href='file:///opt/python/3.8.12/lib/python3.8/site-packages/pyparsing/core.py?line=1125'>1126</a>\u001b[0m         loc \u001b[39m=\u001b[39m \u001b[39mself\u001b[39m\u001b[39m.\u001b[39mpreParse(instring, loc)\n",
      "File \u001b[0;32m/opt/python/3.8.12/lib/python3.8/site-packages/pyparsing/core.py:774\u001b[0m, in \u001b[0;36mParserElement._parseNoCache\u001b[0;34m(self, instring, loc, doActions, callPreParse)\u001b[0m\n\u001b[1;32m    <a href='file:///opt/python/3.8.12/lib/python3.8/site-packages/pyparsing/core.py?line=771'>772</a>\u001b[0m TRY, MATCH, FAIL \u001b[39m=\u001b[39m \u001b[39m0\u001b[39m, \u001b[39m1\u001b[39m, \u001b[39m2\u001b[39m\n\u001b[1;32m    <a href='file:///opt/python/3.8.12/lib/python3.8/site-packages/pyparsing/core.py?line=772'>773</a>\u001b[0m debugging \u001b[39m=\u001b[39m \u001b[39mself\u001b[39m\u001b[39m.\u001b[39mdebug  \u001b[39m# and doActions)\u001b[39;00m\n\u001b[0;32m--> <a href='file:///opt/python/3.8.12/lib/python3.8/site-packages/pyparsing/core.py?line=773'>774</a>\u001b[0m len_instring \u001b[39m=\u001b[39m \u001b[39mlen\u001b[39;49m(instring)\n\u001b[1;32m    <a href='file:///opt/python/3.8.12/lib/python3.8/site-packages/pyparsing/core.py?line=775'>776</a>\u001b[0m \u001b[39mif\u001b[39;00m debugging \u001b[39mor\u001b[39;00m \u001b[39mself\u001b[39m\u001b[39m.\u001b[39mfailAction:\n\u001b[1;32m    <a href='file:///opt/python/3.8.12/lib/python3.8/site-packages/pyparsing/core.py?line=776'>777</a>\u001b[0m     \u001b[39m# print(\"Match {} at loc {}({}, {})\".format(self, loc, lineno(loc, instring), col(loc, instring)))\u001b[39;00m\n\u001b[1;32m    <a href='file:///opt/python/3.8.12/lib/python3.8/site-packages/pyparsing/core.py?line=777'>778</a>\u001b[0m     \u001b[39mtry\u001b[39;00m:\n",
      "\u001b[0;31mTypeError\u001b[0m: object of type 'Dot' has no len()"
     ]
    }
   ],
   "source": [
    "nxgraph(graph)"
   ]
  }
 ],
 "metadata": {
  "interpreter": {
   "hash": "4f946df053fbf2b937619d3c5458e7af74262f9a954d8797ba0b27400bcafe06"
  },
  "kernelspec": {
   "display_name": "Python 3.8.12 64-bit",
   "language": "python",
   "name": "python3"
  },
  "language_info": {
   "codemirror_mode": {
    "name": "ipython",
    "version": 3
   },
   "file_extension": ".py",
   "mimetype": "text/x-python",
   "name": "python",
   "nbconvert_exporter": "python",
   "pygments_lexer": "ipython3",
   "version": "3.8.12"
  },
  "orig_nbformat": 4
 },
 "nbformat": 4,
 "nbformat_minor": 2
}
