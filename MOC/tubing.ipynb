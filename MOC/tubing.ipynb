{
 "cells": [
  {
   "cell_type": "code",
   "execution_count": 1,
   "metadata": {},
   "outputs": [],
   "source": [
    "import re\n",
    "import random"
   ]
  },
  {
   "cell_type": "code",
   "execution_count": 2,
   "metadata": {},
   "outputs": [],
   "source": [
    "def yml_to_csv (rawtext:str) :\n",
    "   s = re.sub (\"\\s:\\s\",\",\",rawtext)\n",
    "   return s\n",
    "\n",
    "def savecsv (p,t) :\n",
    "   f = open (p,\"w\")\n",
    "   f.write (t)\n",
    "   f.close ()"
   ]
  },
  {
   "cell_type": "code",
   "execution_count": 3,
   "metadata": {},
   "outputs": [],
   "source": [
    "text = \"\"\"\\\n",
    "Pembrolizumab : F\n",
    "Pertuzumab : 1\n",
    "Rituxumab : 1\n",
    "Azacitidine : 1\n",
    "Paclitaxel : F\n",
    "\"\"\"\n",
    "\n",
    "d = yml_to_csv (text)\n",
    "savecsv(\"tubing.csv\",d)"
   ]
  },
  {
   "cell_type": "code",
   "execution_count": 5,
   "metadata": {},
   "outputs": [
    {
     "name": "stdout",
     "output_type": "stream",
     "text": [
      "# OF SHIFTS: 8\n",
      "(['MI', '7C', '7P', 'S', 'EI', 'EP', '3', 'N'])\n"
     ]
    }
   ],
   "source": [
    "shf = \"MI 7C 7P S EI EP 3 N\".split(\" \")\n",
    "print (f'# OF SHIFTS: {len(shf)}\\n({shf})')"
   ]
  },
  {
   "cell_type": "code",
   "execution_count": 8,
   "metadata": {},
   "outputs": [
    {
     "data": {
      "text/plain": [
       "{'MI': [2, 1],\n",
       " '7C': [4, 1],\n",
       " '7P': [7, 7],\n",
       " 'S': [7, 6],\n",
       " 'EI': [3, 1],\n",
       " 'EP': [7, 0],\n",
       " '3': [6, 6],\n",
       " 'N': [0, 7]}"
      ]
     },
     "execution_count": 8,
     "metadata": {},
     "output_type": "execute_result"
    }
   ],
   "source": [
    "random.seed(1)\n",
    "dic = {x:[random.randint (0,7),random.randint (0,7)] for x in shf} \n",
    "dic"
   ]
  },
  {
   "cell_type": "code",
   "execution_count": 11,
   "metadata": {},
   "outputs": [],
   "source": [
    "def visualize(dic):\n",
    "   \"\"\" Visualize a directed multigraph using graphviz \"\"\"\n",
    "\n",
    "   dot_str = 'digraph \"DeBruijn graph\" {\\n'\n",
    "   for node in dic.keys():\n",
    "      dot_str += '  %s [label=\"%s\"] ;\\n' % (node, node)\n",
    "   for i in dic.values():\n",
    "      dot_str += '  %s -> %s ;\\n' % (i[0], i[1])\n",
    "   return dot_str + '}\\n'"
   ]
  },
  {
   "cell_type": "code",
   "execution_count": 12,
   "metadata": {},
   "outputs": [
    {
     "ename": "IndentationError",
     "evalue": "unexpected indent (2190637889.py, line 3)",
     "output_type": "error",
     "traceback": [
      "\u001b[0;36m  Input \u001b[0;32mIn [12]\u001b[0;36m\u001b[0m\n\u001b[0;31m    subgraph cluster0 { packmode=array\u001b[0m\n\u001b[0m    ^\u001b[0m\n\u001b[0;31mIndentationError\u001b[0m\u001b[0;31m:\u001b[0m unexpected indent\n"
     ]
    }
   ],
   "source": [
    "%load_ext gvmagic\n",
    "%dotstr digraph test123 { pack=8\n",
    "   subgraph cluster0 { packmode=array\n",
    "   x y x0 y0 x1 subgraph cluster1 {\n",
    "   mn }\n",
    "   }\n",
    "   b [shape=box];\n",
    "   c [label=\"hello\\nworld\",color=blue,fontsize=24,\n",
    "   fontname=\"Palatino−Italic\",fontcolor=red,style=filled];\n",
    "   a −> z\n",
    "   x −> z\n",
    "   a −> b −> c;\n",
    "   a −> {x y};\n",
    "   edge [style=dashed,color=red]; b −> x;\n",
    "   }\n"
   ]
  },
  {
   "cell_type": "code",
   "execution_count": 20,
   "metadata": {},
   "outputs": [],
   "source": [
    "import pydot\n",
    "\n",
    "%load_ext autoreload\n",
    "%autoreload 2\n",
    "from IPython.display import Image, display\n",
    "def viewPydot(pdot):\n",
    "    display(Image(pdot.create_png()))\n",
    "\n",
    "dot_string = \"\"\"graph my_graph {\n",
    "    bgcolor=\"yellow\";\n",
    "    a [label=\"Foo\"];\n",
    "    b [shape=circle];\n",
    "    a -- b -- c [color=blue];\n",
    "}\"\"\"\n",
    "\n",
    "graphs = pydot.graph_from_dot_data(dot_string)\n",
    "graph = graphs[0]\n",
    "graph = pydot.Dot(\"my_graph\", graph_type=\"graph\", bgcolor=\"yellow\")\n",
    "\n",
    "# Add nodes\n",
    "my_node = pydot.Node(\"a\", label=\"Foo\")\n",
    "graph.add_node(my_node)\n",
    "# Or, without using an intermediate variable:\n",
    "graph.add_node(pydot.Node(\"b\", shape=\"circle\"))\n",
    "\n",
    "# Add edges\n",
    "my_edge = pydot.Edge(\"a\", \"b\", color=\"blue\")\n",
    "graph.add_edge(my_edge)\n",
    "# Or, without using an intermediate variable:\n",
    "graph.add_edge(pydot.Edge(\"b\", \"c\", color=\"blue\"))"
   ]
  }
 ],
 "metadata": {
  "interpreter": {
   "hash": "4f946df053fbf2b937619d3c5458e7af74262f9a954d8797ba0b27400bcafe06"
  },
  "kernelspec": {
   "display_name": "Python 3.8.12 64-bit",
   "language": "python",
   "name": "python3"
  },
  "language_info": {
   "codemirror_mode": {
    "name": "ipython",
    "version": 3
   },
   "file_extension": ".py",
   "mimetype": "text/x-python",
   "name": "python",
   "nbconvert_exporter": "python",
   "pygments_lexer": "ipython3",
   "version": "3.8.12"
  },
  "orig_nbformat": 4
 },
 "nbformat": 4,
 "nbformat_minor": 2
}
