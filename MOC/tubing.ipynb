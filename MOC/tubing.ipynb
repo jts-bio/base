{
 "cells": [
  {
   "cell_type": "code",
   "execution_count": 3,
   "metadata": {},
   "outputs": [],
   "source": [
    "import re"
   ]
  },
  {
   "cell_type": "code",
   "execution_count": 1,
   "metadata": {},
   "outputs": [],
   "source": [
    "text = \"\"\"Pembrolizumab : F\n",
    "Pertuzumab : 1\n",
    "Rituxumab : 1\n",
    "Azacitidine : 1\n",
    "Paclitaxel : F\n",
    "\"\"\""
   ]
  },
  {
   "cell_type": "code",
   "execution_count": 5,
   "metadata": {},
   "outputs": [],
   "source": [
    "def yml_to_csv (rawtext:str) :\n",
    "   s = re.sub (\"\\s:\\s\",\",\",rawtext)\n",
    "   return s\n",
    "\n",
    "def savecsv(p,t):\n",
    "   f = open(p,\"w\")\n",
    "   f.write(t)\n",
    "   f.close()"
   ]
  },
  {
   "cell_type": "code",
   "execution_count": 7,
   "metadata": {},
   "outputs": [],
   "source": [
    "d = yml_to_csv(text)\n",
    "savecsv(\"tubing.csv\",d)"
   ]
  },
  {
   "cell_type": "code",
   "execution_count": 3,
   "metadata": {},
   "outputs": [
    {
     "data": {
      "text/plain": [
       "8"
      ]
     },
     "execution_count": 3,
     "metadata": {},
     "output_type": "execute_result"
    }
   ],
   "source": [
    "shf = \"MI 7C 7P S EI EP 3 N\".split(\" \")\n",
    "len(shf)"
   ]
  },
  {
   "cell_type": "code",
   "execution_count": 5,
   "metadata": {},
   "outputs": [
    {
     "data": {
      "text/plain": [
       "[(3, 3), (3, 7), (7, 6), (3, 1), (5, 0), (1, 3), (4, 5), (6, 0)]"
      ]
     },
     "execution_count": 5,
     "metadata": {},
     "output_type": "execute_result"
    }
   ],
   "source": [
    "import random\n",
    "con = []\n",
    "for i in range(8):\n",
    "   a = random.randint(0,7)\n",
    "   b = random.randint(0,7)\n",
    "   con.append((a,b))\n",
    "con"
   ]
  },
  {
   "cell_type": "code",
   "execution_count": 10,
   "metadata": {},
   "outputs": [
    {
     "data": {
      "text/plain": [
       "{'MI': (3, 3),\n",
       " '7C': (3, 7),\n",
       " '7P': (7, 6),\n",
       " 'S': (3, 1),\n",
       " 'EI': (5, 0),\n",
       " 'EP': (1, 3),\n",
       " '3': (4, 5),\n",
       " 'N': (6, 0)}"
      ]
     },
     "execution_count": 10,
     "metadata": {},
     "output_type": "execute_result"
    }
   ],
   "source": [
    "x = dict(zip(shf,con))\n",
    "x"
   ]
  },
  {
   "cell_type": "code",
   "execution_count": 1,
   "metadata": {},
   "outputs": [],
   "source": [
    "%load_ext gvmagic"
   ]
  },
  {
   "cell_type": "code",
   "execution_count": 11,
   "metadata": {},
   "outputs": [
    {
     "ename": "FileNotFoundError",
     "evalue": "[Errno 2] No such file or directory: 'dot'",
     "output_type": "error",
     "traceback": [
      "\u001b[0;31m---------------------------------------------------------------------------\u001b[0m",
      "\u001b[0;31mFileNotFoundError\u001b[0m                         Traceback (most recent call last)",
      "\u001b[1;32m/workspaces/base/MOC/tubing.ipynb Cell 9'\u001b[0m in \u001b[0;36m<cell line: 1>\u001b[0;34m()\u001b[0m\n\u001b[0;32m----> <a href='vscode-notebook-cell://codespaces%2Bjsteinbecker-jts-bio-base-wrx46jv4p2vgp6/workspaces/base/MOC/tubing.ipynb#ch0000005vscode-remote?line=0'>1</a>\u001b[0m get_ipython()\u001b[39m.\u001b[39;49mrun_line_magic(\u001b[39m'\u001b[39;49m\u001b[39mdotstr\u001b[39;49m\u001b[39m'\u001b[39;49m, \u001b[39m'\u001b[39;49m\u001b[39mx\u001b[39;49m\u001b[39m'\u001b[39;49m)\n",
      "File \u001b[0;32m/opt/python/3.8.12/lib/python3.8/site-packages/IPython/core/interactiveshell.py:2285\u001b[0m, in \u001b[0;36mInteractiveShell.run_line_magic\u001b[0;34m(self, magic_name, line, _stack_depth)\u001b[0m\n\u001b[1;32m   <a href='file:///opt/python/3.8.12/lib/python3.8/site-packages/IPython/core/interactiveshell.py?line=2282'>2283</a>\u001b[0m     kwargs[\u001b[39m'\u001b[39m\u001b[39mlocal_ns\u001b[39m\u001b[39m'\u001b[39m] \u001b[39m=\u001b[39m \u001b[39mself\u001b[39m\u001b[39m.\u001b[39mget_local_scope(stack_depth)\n\u001b[1;32m   <a href='file:///opt/python/3.8.12/lib/python3.8/site-packages/IPython/core/interactiveshell.py?line=2283'>2284</a>\u001b[0m \u001b[39mwith\u001b[39;00m \u001b[39mself\u001b[39m\u001b[39m.\u001b[39mbuiltin_trap:\n\u001b[0;32m-> <a href='file:///opt/python/3.8.12/lib/python3.8/site-packages/IPython/core/interactiveshell.py?line=2284'>2285</a>\u001b[0m     result \u001b[39m=\u001b[39m fn(\u001b[39m*\u001b[39;49margs, \u001b[39m*\u001b[39;49m\u001b[39m*\u001b[39;49mkwargs)\n\u001b[1;32m   <a href='file:///opt/python/3.8.12/lib/python3.8/site-packages/IPython/core/interactiveshell.py?line=2285'>2286</a>\u001b[0m \u001b[39mreturn\u001b[39;00m result\n",
      "File \u001b[0;32m/opt/python/3.8.12/lib/python3.8/site-packages/gvmagic.py:55\u001b[0m, in \u001b[0;36mGraphvizMagics.dotstr\u001b[0;34m(self, line)\u001b[0m\n\u001b[1;32m     <a href='file:///opt/python/3.8.12/lib/python3.8/site-packages/gvmagic.py?line=52'>53</a>\u001b[0m \u001b[39m@line_magic\u001b[39m\n\u001b[1;32m     <a href='file:///opt/python/3.8.12/lib/python3.8/site-packages/gvmagic.py?line=53'>54</a>\u001b[0m \u001b[39mdef\u001b[39;00m \u001b[39mdotstr\u001b[39m(\u001b[39mself\u001b[39m, line):\n\u001b[0;32m---> <a href='file:///opt/python/3.8.12/lib/python3.8/site-packages/gvmagic.py?line=54'>55</a>\u001b[0m     \u001b[39mself\u001b[39;49m\u001b[39m.\u001b[39;49m_from_str(line, \u001b[39m'\u001b[39;49m\u001b[39mdot\u001b[39;49m\u001b[39m'\u001b[39;49m)\n",
      "File \u001b[0;32m/opt/python/3.8.12/lib/python3.8/site-packages/gvmagic.py:156\u001b[0m, in \u001b[0;36mGraphvizMagics._from_str\u001b[0;34m(self, line, layout_engine)\u001b[0m\n\u001b[1;32m    <a href='file:///opt/python/3.8.12/lib/python3.8/site-packages/gvmagic.py?line=153'>154</a>\u001b[0m \u001b[39mdef\u001b[39;00m \u001b[39m_from_str\u001b[39m(\u001b[39mself\u001b[39m, line, layout_engine):\n\u001b[1;32m    <a href='file:///opt/python/3.8.12/lib/python3.8/site-packages/gvmagic.py?line=154'>155</a>\u001b[0m     s \u001b[39m=\u001b[39m \u001b[39mself\u001b[39m\u001b[39m.\u001b[39mshell\u001b[39m.\u001b[39mev(line)\n\u001b[0;32m--> <a href='file:///opt/python/3.8.12/lib/python3.8/site-packages/gvmagic.py?line=155'>156</a>\u001b[0m     data \u001b[39m=\u001b[39m run_graphviz(s, layout_engine)\n\u001b[1;32m    <a href='file:///opt/python/3.8.12/lib/python3.8/site-packages/gvmagic.py?line=156'>157</a>\u001b[0m     \u001b[39mif\u001b[39;00m data:\n\u001b[1;32m    <a href='file:///opt/python/3.8.12/lib/python3.8/site-packages/gvmagic.py?line=157'>158</a>\u001b[0m         show_svg(data)\n",
      "File \u001b[0;32m/opt/python/3.8.12/lib/python3.8/site-packages/gvmagic.py:35\u001b[0m, in \u001b[0;36mrun_graphviz\u001b[0;34m(s, layout_engine)\u001b[0m\n\u001b[1;32m     <a href='file:///opt/python/3.8.12/lib/python3.8/site-packages/gvmagic.py?line=31'>32</a>\u001b[0m \u001b[39m\"\"\"Execute dot with a layout and return a raw SVG image, or None.\"\"\"\u001b[39;00m\n\u001b[1;32m     <a href='file:///opt/python/3.8.12/lib/python3.8/site-packages/gvmagic.py?line=32'>33</a>\u001b[0m cmd \u001b[39m=\u001b[39m [\u001b[39m'\u001b[39m\u001b[39mdot\u001b[39m\u001b[39m'\u001b[39m, \u001b[39m'\u001b[39m\u001b[39m-Tsvg\u001b[39m\u001b[39m'\u001b[39m, \u001b[39m'\u001b[39m\u001b[39m-K\u001b[39m\u001b[39m'\u001b[39m, layout_engine]\n\u001b[0;32m---> <a href='file:///opt/python/3.8.12/lib/python3.8/site-packages/gvmagic.py?line=34'>35</a>\u001b[0m dot \u001b[39m=\u001b[39m Popen(cmd, stdin\u001b[39m=\u001b[39;49mPIPE, stdout\u001b[39m=\u001b[39;49mPIPE, stderr\u001b[39m=\u001b[39;49mPIPE)\n\u001b[1;32m     <a href='file:///opt/python/3.8.12/lib/python3.8/site-packages/gvmagic.py?line=35'>36</a>\u001b[0m stdoutdata, stderrdata \u001b[39m=\u001b[39m dot\u001b[39m.\u001b[39mcommunicate(s\u001b[39m.\u001b[39mencode(\u001b[39m'\u001b[39m\u001b[39mutf-8\u001b[39m\u001b[39m'\u001b[39m))\n\u001b[1;32m     <a href='file:///opt/python/3.8.12/lib/python3.8/site-packages/gvmagic.py?line=36'>37</a>\u001b[0m status \u001b[39m=\u001b[39m dot\u001b[39m.\u001b[39mwait()\n",
      "File \u001b[0;32m/opt/python/3.8.12/lib/python3.8/subprocess.py:858\u001b[0m, in \u001b[0;36mPopen.__init__\u001b[0;34m(self, args, bufsize, executable, stdin, stdout, stderr, preexec_fn, close_fds, shell, cwd, env, universal_newlines, startupinfo, creationflags, restore_signals, start_new_session, pass_fds, encoding, errors, text)\u001b[0m\n\u001b[1;32m    <a href='file:///opt/python/3.8.12/lib/python3.8/subprocess.py?line=853'>854</a>\u001b[0m         \u001b[39mif\u001b[39;00m \u001b[39mself\u001b[39m\u001b[39m.\u001b[39mtext_mode:\n\u001b[1;32m    <a href='file:///opt/python/3.8.12/lib/python3.8/subprocess.py?line=854'>855</a>\u001b[0m             \u001b[39mself\u001b[39m\u001b[39m.\u001b[39mstderr \u001b[39m=\u001b[39m io\u001b[39m.\u001b[39mTextIOWrapper(\u001b[39mself\u001b[39m\u001b[39m.\u001b[39mstderr,\n\u001b[1;32m    <a href='file:///opt/python/3.8.12/lib/python3.8/subprocess.py?line=855'>856</a>\u001b[0m                     encoding\u001b[39m=\u001b[39mencoding, errors\u001b[39m=\u001b[39merrors)\n\u001b[0;32m--> <a href='file:///opt/python/3.8.12/lib/python3.8/subprocess.py?line=857'>858</a>\u001b[0m     \u001b[39mself\u001b[39;49m\u001b[39m.\u001b[39;49m_execute_child(args, executable, preexec_fn, close_fds,\n\u001b[1;32m    <a href='file:///opt/python/3.8.12/lib/python3.8/subprocess.py?line=858'>859</a>\u001b[0m                         pass_fds, cwd, env,\n\u001b[1;32m    <a href='file:///opt/python/3.8.12/lib/python3.8/subprocess.py?line=859'>860</a>\u001b[0m                         startupinfo, creationflags, shell,\n\u001b[1;32m    <a href='file:///opt/python/3.8.12/lib/python3.8/subprocess.py?line=860'>861</a>\u001b[0m                         p2cread, p2cwrite,\n\u001b[1;32m    <a href='file:///opt/python/3.8.12/lib/python3.8/subprocess.py?line=861'>862</a>\u001b[0m                         c2pread, c2pwrite,\n\u001b[1;32m    <a href='file:///opt/python/3.8.12/lib/python3.8/subprocess.py?line=862'>863</a>\u001b[0m                         errread, errwrite,\n\u001b[1;32m    <a href='file:///opt/python/3.8.12/lib/python3.8/subprocess.py?line=863'>864</a>\u001b[0m                         restore_signals, start_new_session)\n\u001b[1;32m    <a href='file:///opt/python/3.8.12/lib/python3.8/subprocess.py?line=864'>865</a>\u001b[0m \u001b[39mexcept\u001b[39;00m:\n\u001b[1;32m    <a href='file:///opt/python/3.8.12/lib/python3.8/subprocess.py?line=865'>866</a>\u001b[0m     \u001b[39m# Cleanup if the child failed starting.\u001b[39;00m\n\u001b[1;32m    <a href='file:///opt/python/3.8.12/lib/python3.8/subprocess.py?line=866'>867</a>\u001b[0m     \u001b[39mfor\u001b[39;00m f \u001b[39min\u001b[39;00m \u001b[39mfilter\u001b[39m(\u001b[39mNone\u001b[39;00m, (\u001b[39mself\u001b[39m\u001b[39m.\u001b[39mstdin, \u001b[39mself\u001b[39m\u001b[39m.\u001b[39mstdout, \u001b[39mself\u001b[39m\u001b[39m.\u001b[39mstderr)):\n",
      "File \u001b[0;32m/opt/python/3.8.12/lib/python3.8/subprocess.py:1704\u001b[0m, in \u001b[0;36mPopen._execute_child\u001b[0;34m(self, args, executable, preexec_fn, close_fds, pass_fds, cwd, env, startupinfo, creationflags, shell, p2cread, p2cwrite, c2pread, c2pwrite, errread, errwrite, restore_signals, start_new_session)\u001b[0m\n\u001b[1;32m   <a href='file:///opt/python/3.8.12/lib/python3.8/subprocess.py?line=1701'>1702</a>\u001b[0m     \u001b[39mif\u001b[39;00m errno_num \u001b[39m!=\u001b[39m \u001b[39m0\u001b[39m:\n\u001b[1;32m   <a href='file:///opt/python/3.8.12/lib/python3.8/subprocess.py?line=1702'>1703</a>\u001b[0m         err_msg \u001b[39m=\u001b[39m os\u001b[39m.\u001b[39mstrerror(errno_num)\n\u001b[0;32m-> <a href='file:///opt/python/3.8.12/lib/python3.8/subprocess.py?line=1703'>1704</a>\u001b[0m     \u001b[39mraise\u001b[39;00m child_exception_type(errno_num, err_msg, err_filename)\n\u001b[1;32m   <a href='file:///opt/python/3.8.12/lib/python3.8/subprocess.py?line=1704'>1705</a>\u001b[0m \u001b[39mraise\u001b[39;00m child_exception_type(err_msg)\n",
      "\u001b[0;31mFileNotFoundError\u001b[0m: [Errno 2] No such file or directory: 'dot'"
     ]
    }
   ],
   "source": [
    "%dotstr x"
   ]
  }
 ],
 "metadata": {
  "interpreter": {
   "hash": "4f946df053fbf2b937619d3c5458e7af74262f9a954d8797ba0b27400bcafe06"
  },
  "kernelspec": {
   "display_name": "Python 3.8.12 64-bit",
   "language": "python",
   "name": "python3"
  },
  "language_info": {
   "codemirror_mode": {
    "name": "ipython",
    "version": 3
   },
   "file_extension": ".py",
   "mimetype": "text/x-python",
   "name": "python",
   "nbconvert_exporter": "python",
   "pygments_lexer": "ipython3",
   "version": "3.8.12"
  },
  "orig_nbformat": 4
 },
 "nbformat": 4,
 "nbformat_minor": 2
}
