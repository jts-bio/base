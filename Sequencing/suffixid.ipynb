{
 "cells": [
  {
   "cell_type": "code",
   "execution_count": 5,
   "metadata": {},
   "outputs": [],
   "source": [
    "ex = \"accgtacgt\""
   ]
  },
  {
   "cell_type": "code",
   "execution_count": 17,
   "metadata": {},
   "outputs": [
    {
     "data": {
      "text/plain": [
       "[('accgtacgt', 0),\n",
       " ('ccgtacgt', 1),\n",
       " ('cgtacgt', 2),\n",
       " ('gtacgt', 3),\n",
       " ('tacgt', 4),\n",
       " ('acgt', 5),\n",
       " ('cgt', 6),\n",
       " ('gt', 7),\n",
       " ('t', 8)]"
      ]
     },
     "execution_count": 17,
     "metadata": {},
     "output_type": "execute_result"
    }
   ],
   "source": [
    "def suffixtable (t:str):\n",
    "   \"\"\"\n",
    "   <<IN>> \n",
    "   >>> t = text\n",
    "   <<OUT>>\n",
    "   >>> List of Tuples (suffix, offset)\n",
    "   \"\"\"\n",
    "   \n",
    "   suffixtable = []\n",
    "   for i in range(len(t)):\n",
    "      suffix = t[i:]\n",
    "      offset = i\n",
    "      suffixtable.append((suffix,offset))\n",
    "   return suffixtable\n",
    "\n",
    "st = suffixtable (ex)\n",
    "st"
   ]
  }
 ],
 "metadata": {
  "interpreter": {
   "hash": "31f2aee4e71d21fbe5cf8b01ff0e069b9275f58929596ceb00d14d90e3e16cd6"
  },
  "kernelspec": {
   "display_name": "Python 3.8.2 64-bit",
   "language": "python",
   "name": "python3"
  },
  "language_info": {
   "codemirror_mode": {
    "name": "ipython",
    "version": 3
   },
   "file_extension": ".py",
   "mimetype": "text/x-python",
   "name": "python",
   "nbconvert_exporter": "python",
   "pygments_lexer": "ipython3",
   "version": "3.8.2"
  },
  "orig_nbformat": 4
 },
 "nbformat": 4,
 "nbformat_minor": 2
}
