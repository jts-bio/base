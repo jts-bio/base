{
 "cells": [
  {
   "cell_type": "code",
   "execution_count": 19,
   "metadata": {},
   "outputs": [],
   "source": [
    "ex = \"accgtacgtcgatagggcagggggctag\""
   ]
  },
  {
   "cell_type": "code",
   "execution_count": 23,
   "metadata": {},
   "outputs": [
    {
     "data": {
      "text/plain": [
       "[('accgtacgtcgatagggcagggggctag', 0),\n",
       " ('acgtcgatagggcagggggctag', 5),\n",
       " ('ag', 26),\n",
       " ('agggcagggggctag', 13),\n",
       " ('agggggctag', 18),\n",
       " ('atagggcagggggctag', 11),\n",
       " ('cagggggctag', 17),\n",
       " ('ccgtacgtcgatagggcagggggctag', 1),\n",
       " ('cgatagggcagggggctag', 9),\n",
       " ('cgtacgtcgatagggcagggggctag', 2),\n",
       " ('cgtcgatagggcagggggctag', 6),\n",
       " ('ctag', 24),\n",
       " ('g', 27),\n",
       " ('gatagggcagggggctag', 10),\n",
       " ('gcagggggctag', 16),\n",
       " ('gctag', 23),\n",
       " ('ggcagggggctag', 15),\n",
       " ('ggctag', 22),\n",
       " ('gggcagggggctag', 14),\n",
       " ('gggctag', 21),\n",
       " ('ggggctag', 20),\n",
       " ('gggggctag', 19),\n",
       " ('gtacgtcgatagggcagggggctag', 3),\n",
       " ('gtcgatagggcagggggctag', 7),\n",
       " ('tacgtcgatagggcagggggctag', 4),\n",
       " ('tag', 25),\n",
       " ('tagggcagggggctag', 12),\n",
       " ('tcgatagggcagggggctag', 8)]"
      ]
     },
     "execution_count": 23,
     "metadata": {},
     "output_type": "execute_result"
    }
   ],
   "source": [
    "def suffixtable (t:str):\n",
    "   \"\"\"\n",
    "   <<IN>> \n",
    "   >>> t = text\n",
    "   <<OUT>>\n",
    "   >>> List of Tuples (suffix, offset)\n",
    "   \"\"\"\n",
    "   \n",
    "   suffixtable = []\n",
    "   for i in range(len(t)):\n",
    "      suffix = t[i:]\n",
    "      offset = i\n",
    "      suffixtable.append((suffix,offset))\n",
    "   return suffixtable\n",
    "\n",
    "st = suffixtable (ex)\n",
    "st.sort()\n",
    "st"
   ]
  }
 ],
 "metadata": {
  "interpreter": {
   "hash": "31f2aee4e71d21fbe5cf8b01ff0e069b9275f58929596ceb00d14d90e3e16cd6"
  },
  "kernelspec": {
   "display_name": "Python 3.8.2 64-bit",
   "language": "python",
   "name": "python3"
  },
  "language_info": {
   "codemirror_mode": {
    "name": "ipython",
    "version": 3
   },
   "file_extension": ".py",
   "mimetype": "text/x-python",
   "name": "python",
   "nbconvert_exporter": "python",
   "pygments_lexer": "ipython3",
   "version": "3.8.2"
  },
  "orig_nbformat": 4
 },
 "nbformat": 4,
 "nbformat_minor": 2
}
