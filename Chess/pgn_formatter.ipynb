{
 "cells": [
  {
   "cell_type": "code",
   "execution_count": 29,
   "metadata": {},
   "outputs": [
    {
     "data": {
      "text/plain": [
       "'[Event \"vs Computer\"]\\n[Site \"Chess.com\"]\\n[Date \"2022.03.11\"]\\n[Round \"?\"]\\n[White \"Devon\"]\\n[Black \"jsteinbecker\"]\\n[Result \"0-1\"]\\n[BlackElo \"1200\"]\\n[WhiteElo \"1600\"]\\n[TimeControl \"-\"]\\n\\n1. c4 e5 2. Nc3 c5 3. e3 d6 4. Qb3 Nf6 5. Qb5+ Nbd7 6. b4 {INACCURACY (-1.33)}\\n({(+0.08) The best move was} 6. Be2 g6 7. Bf3 Bg7 8. d3 O-O 9. Nge2 Nb6 10. a4\\nBf5 11. e4 Bd7 12. Qb3 Rb8 13. O-O Na8 14. Be3 Nc7 15. Bd2 a6 16. a5 Bc6 17. Nd5\\nNfxd5) 6... b6 {INACCURACY (-0.13)} ({(-1.33) The best move was} 6... a6 7. Qa4\\ncxb4 8. Qxb4 d5 9. Qb1 d4 10. Na4 Bd6 11. Nf3 O-O 12. Qb3 Ne4 13. Ba3 dxe3 14.\\nfxe3 Bxa3) 7. Ba3 a6 8. Qc6 Ra7 9. Nd5 {INACCURACY (-1.29)} ({(-0.10) The best\\nmove was} 9. Qa4 Bb7 10. bxc5 bxc5 11. Nf3 e4 12. Ng5 h6 13. Nh3 Be7 14. Be2 Ba8\\n15. O-O O-O 16. Nf4 Ne5) 9... Nxd5 10. Qxd5 $17 Qf6 $12 {INACCURACY (-0.69)}\\n({(-1.69) The best move was} 10... Bb7 11. Qd3 b5 12. bxc5 dxc5 13. Bb2 b4 14.\\nQc2 a5 15. Nf3 a4 16. a3 b3 17. Qb1 e4 18. Ne5 Nxe5 19. Bxe5 Be7 20. Bxg7 Rg8\\n21. Bb2 Bf6 22. Bxf6 Qxf6) 11. bxc5 bxc5 12. Qc6 {INACCURACY (-0.97)} ({(+0.15)\\nThe best move was} 12. Rb1 Qd8 13. Ne2 Nf6 14. Qd3 Bd7 15. Nc3 Bc6 16. f3 Be7\\n17. Qf5 Rd7 18. Be2 Ra7 19. Qc2 O-O 20. O-O) 12... Bb7 13. Qa4 {Critical move.}\\n13... Qg6 14. Rc1 $4 $17 {BLUNDER (-6.86)} ({(-0.81) The best move was} 14. Ne2 Be7\\n15. h4 h5 16. Ng3 Ba8 17. Qd1 Qe6 18. e4 g6 19. Bc1 f5 20. d3 Nf6 21. Bg5 O-O\\n22. exf5 gxf5 23. Nxh5 f4 24. Nxf6+ Bxf6 25. Bxf6 Qxf6) 14... Bxg2 {Critical\\nmove.} 15. Bxc5 {INACCURACY (-11.25)} ({(-7.25) The best move was} 15. Bxg2 Qxg2\\n16. Nf3 Qxh1+ 17. Ke2 Qg2 18. Rg1 Qh3 19. Qc6 Ke7 20. Rg3 Qe6 21. d3 e4 22. Qxe4\\nQxe4 23. dxe4 Rb7 24. Rg5 g6 25. e5 Nxe5 26. Nxe5 dxe5) 15... dxc5 16. Bxg2 Qxg2\\n17. Ke2 Qxh1 18. h3 Be7 19. Qc2 Bh4 20. Nf3 Qxh3 21. Rg1 Nf6 22. Nxe5\\n{INACCURACY (-13.37)} ({(-8.48) The best move was} 22. Qb1 O-O 23. Rh1 Qe6 24.\\nRxh4 e4 25. Ng5 Qxc4+ 26. Ke1 Re8 27. f3 Qd3 28. Qb3 Qxb3 29. axb3 exf3 30. Ra4\\nh6 31. Nxf3 g5 32. Ra3 Kg7 33. Ke2 Ne4 34. Kd3 f6) 22... Qh2 23. Qa4+ Nd7 24.\\nRxg7 Qxf2+ 25. Kd1 Qe1+ 26. Kc2 □ Bf6 27. Nf3 Qf2 28. Rg5 Qxf3 29. Rxc5 O-O 30.\\nQc6 Qf1 31. Rf5 $4 {BLUNDER (-71.24)} ({(-29.38) The best move was} 31. Rg5+ Bxg5\\n32. Qd5 Bf6 33. Qd3 Qxd3+ 34. Kxd3 Rc7 35. a3 Rd8 36. Ke2 Ne5 37. d4 Nxc4 38.\\nKd3 Bg5 39. Ke4 Bxe3 40. d5 Nxa3) 31... Qxf5+ 32. e4 Qe5 33. Kd1 Qa1+ 34. Ke2\\nRe8 35. Qd5 Re5 36. Qd3 Nc5 37. Qg3+ Bg7 38. d3 Rae7 39. Qe3 $4 {BLUNDER (♚ Mate\\nin 16)} ({(-71.01) The best move was} 39. a3 Qxa3 40. Qe3 Qa2+ 41. Kf3 Qc2 42.\\nKg3 Qxd3 43. Qxd3 Nxd3 44. c5 Nxc5 45. Kf2 Rxe4 46. Kg1 Re3 47. Kf1 Re1+ 48.\\nKg2) 39... Nxe4 40. Qb6 Ng3+ {FASTER MATE (♚ Mate in 4)} ({(♚ Mate in 4)\\nCheckmate after} 40... Qxa2+ 41. Kf3 Rf5+ 42. Kg4 Qg2+ 43. Kxf5 Qf3#) 41. Kf3\\nQf1+ 42. Qf2 Qh1+ {FASTER MATE (♚ Mate in 4)} ({(♚ Mate in 3) Checkmate after}\\n42... Qh3 43. Qd2 Nh1+ 44. Kf4 Bh6#) 43. Kxg3 Rg5+ 44. Kf4 □ Qc1+ {FASTER MATE\\n(♚ Mate in 3)} ({(♚ Mate in 3) Checkmate after} 44... Qh3 45. Kxg5 Bh6+ 46. Kf6\\nRe6#) 45. Kf3 Rf5+ {FASTER MATE (♚ Mate in 4)} ({(♚ Mate in 3) Checkmate after}\\n45... Qd1+ 46. Qe2 Qxe2+ 47. Kf4 Qe3#) 46. Kg2 Rxf2+ 47. Kh3 Qe3+ {FASTER MATE\\n(♚ Mate in 2)} ({(♚ Mate in 2) Checkmate after} 47... Qf4 48. a4 Re3#) 48. Kh4\\nBf6+ 49. Kh5 Re5+ {FASTER MATE (♚ Mate in 1)} ({(♚ Mate in 1) Checkmate after}\\n49... Qh3#) 50. Kg4 □ Qg5+ {FASTER MATE (♚ Mate in 1)} ({(♚ Mate in 1) Checkmate\\nafter} 50... h5#) 51. Kh3 □ Re3# 0-1'"
      ]
     },
     "execution_count": 29,
     "metadata": {},
     "output_type": "execute_result"
    }
   ],
   "source": [
    "game = open(\"game 03112922.pgn\",\"r\").read()\n",
    "game"
   ]
  },
  {
   "cell_type": "code",
   "execution_count": 30,
   "metadata": {},
   "outputs": [],
   "source": [
    "import re"
   ]
  },
  {
   "cell_type": "code",
   "execution_count": 32,
   "metadata": {},
   "outputs": [
    {
     "name": "stdout",
     "output_type": "stream",
     "text": [
      "[['1.', 'c4', 'e5'], ['2.', 'Nc3', 'c5'], ['3.', 'e3', 'd6'], ['4.', 'Qb3', 'Nf6'], ['5.', 'Qb5+', 'Nbd7'], ['11.', 'e4', 'Bd7'], ['12.', 'Qb3', 'Rb8'], ['13.', 'O-O', 'Na8'], ['14.', 'Be3', 'Nc7'], ['15.', 'Bd2', 'a6'], ['16.', 'a5', 'Bc6'], ['8.', 'Qxb4', 'd5'], ['9.', 'Qb1', 'd4'], ['10.', 'Na4', 'Bd6'], ['11.', 'Nf3', 'O-O'], ['12.', 'Qb3', 'Ne4'], ['13.', 'Ba3', 'dxe3'], ['7.', 'Ba3', 'a6'], ['8.', 'Qc6', 'Ra7'], ['9.', 'Qa4', 'Bb7'], ['10.', 'bxc5', 'bxc5'], ['11.', 'Nf3', 'e4'], ['12.', 'Ng5', 'h6'], ['13.', 'Nh3', 'Be7'], ['14.', 'Be2', 'Ba8'], ['15.', 'O-O', 'O-O'], ['16.', 'Nf4', 'Ne5'], ['15.', 'Nf3', 'a4'], ['16.', 'a3', 'b3'], ['17.', 'Qb1', 'e4'], ['18.', 'Ne5', 'Nxe5'], ['19.', 'Bxe5', 'Be7'], ['20.', 'Bxg7', 'Rg8'], ['21.', 'Bb2', 'Bf6'], ['22.', 'Bxf6', 'Qxf6'], ['11.', 'bxc5', 'bxc5'], ['12.', 'Rb1', 'Qd8'], ['13.', 'Ne2', 'Nf6'], ['14.', 'Qd3', 'Bd7'], ['15.', 'Nc3', 'Bc6'], ['16.', 'f3', 'Be7'], ['17.', 'Qf5', 'Rd7'], ['18.', 'Be2', 'Ra7'], ['19.', 'Qc2', 'O-O'], ['15.', 'h4', 'h5'], ['16.', 'Ng3', 'Ba8'], ['17.', 'Qd1', 'Qe6'], ['18.', 'e4', 'g6'], ['19.', 'Bc1', 'f5'], ['20.', 'd3', 'Nf6'], ['21.', 'Bg5', 'O-O'], ['22.', 'exf5', 'gxf5'], ['23.', 'Nxh5', 'f4'], ['24.', 'Nxf6+', 'Bxf6'], ['25.', 'Bxf6', 'Qxf6'], ['16.', 'Nf3', 'Qxh1+'], ['17.', 'Ke2', 'Qg2'], ['18.', 'Rg1', 'Qh3'], ['19.', 'Qc6', 'Ke7'], ['20.', 'Rg3', 'Qe6'], ['21.', 'd3', 'e4'], ['23.', 'dxe4', 'Rb7'], ['24.', 'Rg5', 'g6'], ['25.', 'e5', 'Nxe5'], ['26.', 'Nxe5', 'dxe5'], ['16.', 'Bxg2', 'Qxg2'], ['17.', 'Ke2', 'Qxh1'], ['18.', 'h3', 'Be7'], ['19.', 'Qc2', 'Bh4'], ['20.', 'Nf3', 'Qxh3'], ['21.', 'Rg1', 'Nf6'], ['25.', 'Ng5', 'Qxc4+'], ['26.', 'Ke1', 'Re8'], ['27.', 'f3', 'Qd3'], ['28.', 'Qb3', 'Qxb3'], ['29.', 'axb3', 'exf3'], ['31.', 'Nxf3', 'g5'], ['32.', 'Ra3', 'Kg7'], ['33.', 'Ke2', 'Ne4'], ['34.', 'Kd3', 'f6'], ['23.', 'Qa4+', 'Nd7'], ['25.', 'Kd1', 'Qe1+'], ['27.', 'Nf3', 'Qf2'], ['28.', 'Rg5', 'Qxf3'], ['29.', 'Rxc5', 'O-O'], ['32.', 'Qd5', 'Bf6'], ['33.', 'Qd3', 'Qxd3+'], ['34.', 'Kxd3', 'Rc7'], ['35.', 'a3', 'Rd8'], ['36.', 'Ke2', 'Ne5'], ['37.', 'd4', 'Nxc4'], ['39.', 'Ke4', 'Bxe3'], ['40.', 'd5', 'Nxa3'], ['32.', 'e4', 'Qe5'], ['33.', 'Kd1', 'Qa1+'], ['35.', 'Qd5', 'Re5'], ['36.', 'Qd3', 'Nc5'], ['37.', 'Qg3+', 'Bg7'], ['38.', 'd3', 'Rae7'], ['43.', 'Qxd3', 'Nxd3'], ['44.', 'c5', 'Nxc5'], ['45.', 'Kf2', 'Rxe4'], ['46.', 'Kg1', 'Re3'], ['47.', 'Kf1', 'Re1+'], ['40.', 'Qb6', 'Ng3+'], ['41.', 'Kf3', 'Rf5+'], ['42.', 'Kg4', 'Qg2+'], ['43.', 'Kxf5', 'Qf3#'], ['42.', 'Qf2', 'Qh1+'], ['43.', 'Qd2', 'Nh1+'], ['44.', 'Kf4', 'Bh6#'], ['43.', 'Kxg3', 'Rg5+'], ['45.', 'Kf3', 'Rf5+'], ['46.', 'Qe2', 'Qxe2+'], ['47.', 'Kf4', 'Qe3#'], ['46.', 'Kg2', 'Rxf2+'], ['47.', 'Kh3', 'Qe3+'], ['49.', 'Kh5', 'Re5+']]\n"
     ]
    },
    {
     "name": "stderr",
     "output_type": "stream",
     "text": [
      "Bad pipe message: %s [b'\\t\\x8d\\x92O\\xa3[\\x00\\x1b`\\xae\\xc8I\\xd5\\x84\\\\\\xead\\xf3 b\\xe0C\\xf2\\xba\\xb59;\\x8aSX65\\xa9\\xcb`\\xb4i\\xb2z\\xc8\\x0b2\\x16\\xc1+1\\xbf\\xae\\x9e\\x8c\\xa4\\x00\\x08\\x13\\x02\\x13\\x03\\x13\\x01\\x00\\xff\\x01\\x00\\x00\\x8f\\x00\\x00\\x00\\x0e\\x00\\x0c\\x00\\x00\\t127.0.0.1\\x00\\x0b\\x00\\x04\\x03\\x00\\x01\\x02\\x00\\n\\x00\\x0c\\x00\\n\\x00\\x1d\\x00\\x17\\x00\\x1e\\x00\\x19\\x00\\x18\\x00#\\x00\\x00\\x00\\x16\\x00\\x00\\x00']\n",
      "Bad pipe message: %s [b'\\x00\\x00\\r\\x00\\x1e\\x00\\x1c\\x04\\x03\\x05\\x03\\x06\\x03\\x08\\x07\\x08\\x08\\x08\\t\\x08\\n\\x08']\n",
      "Bad pipe message: %s [b'\\x04\\x08\\x05\\x08\\x06\\x04\\x01\\x05\\x01\\x06']\n",
      "Bad pipe message: %s [b'']\n",
      "Bad pipe message: %s [b'\\x03\\x02\\x03\\x04\\x00-\\x00\\x02\\x01\\x01\\x003\\x00&\\x00$\\x00\\x1d\\x00 \\n\\x84z`\\xd1\\x06\\xa9\\x08\\xc5V\\x82|$f\\x05v\\xc2a\\x98\\xc4X\\xa4']\n",
      "Bad pipe message: %s [b'\\x83\\x9dF']\n",
      "Bad pipe message: %s [b\"\\xd4\\x10\\x7f*\\xcb\\x93\\x80\\x9dK\\xb04\\x08\\xe4=lWS\\xec\\x00\\x00|\\xc0,\\xc00\\x00\\xa3\\x00\\x9f\\xcc\\xa9\\xcc\\xa8\\xcc\\xaa\\xc0\\xaf\\xc0\\xad\\xc0\\xa3\\xc0\\x9f\\xc0]\\xc0a\\xc0W\\xc0S\\xc0+\\xc0/\\x00\\xa2\\x00\\x9e\\xc0\\xae\\xc0\\xac\\xc0\\xa2\\xc0\\x9e\\xc0\\\\\\xc0`\\xc0V\\xc0R\\xc0$\\xc0(\\x00k\\x00j\\xc0#\\xc0'\\x00g\\x00@\\xc0\\n\\xc0\\x14\\x009\\x008\\xc0\\t\\xc0\\x13\\x003\\x002\\x00\\x9d\\xc0\\xa1\\xc0\\x9d\\xc0Q\\x00\\x9c\\xc0\\xa0\\xc0\\x9c\\xc0P\\x00=\\x00<\\x00\", b'/\\x00\\x9a\\x00\\x99\\xc0\\x07\\xc0\\x11\\x00\\x96\\x00\\x05\\x00\\xff\\x01\\x00\\x00j\\x00\\x00\\x00\\x0e\\x00\\x0c\\x00\\x00\\t127.0.0.1\\x00\\x0b\\x00\\x04\\x03\\x00\\x01\\x02\\x00\\n\\x00\\x0c\\x00\\n\\x00']\n",
      "Bad pipe message: %s [b'\\x17\\x00\\x1e\\x00\\x19\\x00\\x18\\x00#\\x00\\x00\\x00\\x16\\x00\\x00\\x00\\x17\\x00\\x00\\x00\\r\\x000\\x00.\\x04\\x03\\x05']\n",
      "Bad pipe message: %s [b'\\x03\\x08']\n",
      "Bad pipe message: %s [b'\\x08\\x08\\t\\x08\\n\\x08']\n",
      "Bad pipe message: %s [b'\\x04\\x08\\x05\\x08\\x06\\x04\\x01\\x05\\x01\\x06']\n",
      "Bad pipe message: %s [b'', b'\\x03\\x03']\n",
      "Bad pipe message: %s [b'']\n",
      "Bad pipe message: %s [b'', b'\\x02']\n",
      "Bad pipe message: %s [b'\\x05\\x02\\x06']\n",
      "Bad pipe message: %s [b'\\xc5\\xe0\\x81\\xc6\\xf5\\xb0\\x05\\xeb\\x05)\\x9f\\xb5b\\xc4\\xe0\\xc2\\n\\xb0\\x00\\x00>\\xc0\\x14\\xc0\\n\\x009\\x008\\x007\\x006\\xc0\\x0f\\xc0\\x05\\x005\\xc0\\x13\\xc0\\t\\x003\\x002\\x001\\x000\\xc0\\x0e\\xc0\\x04\\x00/\\x00\\x9a\\x00\\x99\\x00\\x98\\x00\\x97\\x00\\x96\\x00\\x07\\xc0\\x11\\xc0\\x07\\xc0\\x0c\\xc0\\x02\\x00\\x05\\x00\\x04']\n",
      "Bad pipe message: %s [b'\\xd8\\xad\\x95\\xdb\\x13RA\"l\\xf0j\\x10\\xa8\\xfc\\x96\\xd6\\x84\\x80\\x00\\x00\\xa2\\xc0\\x14\\xc0\\n\\x009\\x008\\x007\\x006\\x00\\x88\\x00\\x87\\x00\\x86\\x00\\x85\\xc0\\x19\\x00:\\x00\\x89\\xc0\\x0f\\xc0\\x05\\x005\\x00\\x84\\xc0\\x13\\xc0\\t\\x003\\x002\\x001\\x000\\x00\\x9a\\x00\\x99\\x00\\x98\\x00\\x97\\x00E\\x00D\\x00C\\x00B\\xc0\\x18\\x004\\x00\\x9b\\x00F\\xc0\\x0e\\xc0\\x04\\x00/\\x00\\x96\\x00A\\x00\\x07\\xc0\\x11\\xc0\\x07\\xc0\\x16\\x00\\x18\\xc0\\x0c\\xc0\\x02\\x00\\x05\\x00\\x04\\xc0\\x12\\xc0\\x08\\x00\\x16\\x00\\x13\\x00\\x10\\x00\\r\\xc0\\x17\\x00\\x1b\\xc0\\r\\xc0\\x03\\x00\\n\\x00\\x15\\x00\\x12\\x00\\x0f\\x00\\x0c\\x00\\x1a\\x00\\t\\x00\\x14\\x00\\x11\\x00\\x19\\x00\\x08\\x00\\x06\\x00\\x17\\x00\\x03\\xc0\\x10\\xc0\\x06\\xc0\\x15\\xc0\\x0b\\xc0', b'']\n",
      "Bad pipe message: %s [b'\\x8a\\x8c\\xb4\\tAWBL?LC\\x9c\\xca\\xb8\\xf4\\xa3\\x99G\\x00\\x00>\\xc0\\x14\\xc0\\n\\x009\\x008\\x007\\x006\\xc0\\x0f\\xc0\\x05\\x005\\xc0\\x13\\xc0\\t\\x003\\x002\\x00']\n",
      "Bad pipe message: %s [b'\\xfc\\x89\\xb2?;\\x193I\\xe3\\xa8\\xc7\\xb8p %raf\\x00\\x00\\xa2\\xc0\\x14\\xc0\\n\\x009\\x008\\x007\\x006\\x00\\x88\\x00\\x87\\x00\\x86\\x00\\x85\\xc0\\x19\\x00:\\x00\\x89\\xc0\\x0f\\xc0\\x05\\x005\\x00\\x84\\xc0\\x13\\xc0\\t\\x003\\x002\\x001\\x000\\x00\\x9a\\x00\\x99\\x00\\x98\\x00\\x97\\x00E\\x00D\\x00C\\x00B\\xc0\\x18\\x004\\x00\\x9b\\x00F\\xc0\\x0e\\xc0\\x04\\x00/\\x00\\x96\\x00A\\x00\\x07\\xc0\\x11\\xc0\\x07\\xc0\\x16\\x00\\x18\\xc0\\x0c\\xc0\\x02\\x00\\x05\\x00\\x04\\xc0\\x12']\n",
      "Bad pipe message: %s [b'\\x01']\n",
      "Bad pipe message: %s [b'0\\xc0\\x0e\\xc0\\x04\\x00/\\x00\\x9a\\x00\\x99\\x00\\x98\\x00\\x97\\x00\\x96\\x00\\x07\\xc0\\x11\\xc0\\x07\\xc0\\x0c\\xc0\\x02\\x00\\x05\\x00\\x04\\x00\\xff\\x02\\x01\\x00\\x00C\\x00\\x00\\x00\\x0e\\x00\\x0c\\x00\\x00\\t1']\n",
      "Bad pipe message: %s [b'\\xb0\\xd3\\x96D=*\\xec\\xcb\\x03\\xa2\\xeb\\xa1_U\\x93\"\\xa9\\xbb\\x00\\x00\\xf4\\xc00\\xc0,\\xc0(\\xc0$\\xc0\\x14\\xc0\\n\\x00\\xa5\\x00\\xa3\\x00\\xa1\\x00\\x9f\\x00k\\x00j\\x00i\\x00h\\x009\\x008\\x007\\x006\\x00\\x88\\x00\\x87\\x00\\x86\\x00\\x85\\xc0\\x19\\x00\\xa7\\x00m\\x00:\\x00\\x89\\xc02\\xc0.\\xc0*\\xc0']\n",
      "Bad pipe message: %s [b\"\\xe1.<\\xaeQ\\xf0\\t\\x83\\x0fH\\xb16o\\xbcG\\x15;}\\x00\\x00\\x86\\xc00\\xc0,\\xc0(\\xc0$\\xc0\\x14\\xc0\\n\\x00\\xa5\\x00\\xa3\\x00\\xa1\\x00\\x9f\\x00k\\x00j\\x00i\\x00h\\x009\\x008\\x007\\x006\\xc02\\xc0.\\xc0*\\xc0&\\xc0\\x0f\\xc0\\x05\\x00\\x9d\\x00=\\x005\\xc0/\\xc0+\\xc0'\\xc0#\\xc0\\x13\\xc0\\t\\x00\\xa4\\x00\\xa2\\x00\\xa0\\x00\\x9e\\x00g\\x00@\\x00?\\x00>\\x003\\x002\\x001\\x000\\xc01\\xc0-\\xc0)\\xc0%\\xc0\\x0e\\xc0\\x04\\x00\\x9c\\x00<\\x00/\\x00\\x9a\\x00\\x99\\x00\\x98\\x00\\x97\\x00\\x96\\x00\\x07\\xc0\\x11\\xc0\\x07\\xc0\\x0c\\xc0\\x02\\x00\\x05\\x00\\x04\\x00\\xff\\x02\\x01\\x00\\x00g\\x00\\x00\\x00\\x0e\\x00\\x0c\\x00\\x00\\t1\"]\n",
      "Bad pipe message: %s [b\"\\x0f\\xc0\\x05\\x00\\x9d\\x00=\\x005\\x00\\x84\\xc0/\\xc0+\\xc0'\\xc0#\\xc0\\x13\\xc0\\t\\x00\\xa4\\x00\\xa2\\x00\\xa0\\x00\\x9e\\x00g\\x00@\\x00?\"]\n"
     ]
    }
   ],
   "source": [
    "game = re.sub(\"\\(.+\\)?\",\"\",game)\n",
    "rec = re.findall(\"\\d+\\. [\\w\\d\\-\\+\\#]+ [\\w\\d\\-\\+\\#]+\",game)\n",
    "moves = []\n",
    "for x in rec:\n",
    "   y = x.split(\" \")\n",
    "   moves.append(y)\n",
    "print(moves)"
   ]
  },
  {
   "cell_type": "code",
   "execution_count": null,
   "metadata": {},
   "outputs": [
    {
     "name": "stdout",
     "output_type": "stream",
     "text": [
      "[[1, 'c4', 'e5'], [2, 'Nc3', 'c5'], [3, 'e3', 'd6'], [4, 'Qb3', 'Nf6'], [5, 'Qb5+', 'Nbd7'], [6, 'Be2', 'g6'], [7, 'Bf3', 'Bg7'], [8, 'd3', 'O-O'], [9, 'Nge2', 'Nb6'], [11, 'e4', 'Bd7'], [12, 'Qb3', 'Rb8'], [13, 'O-O', 'Na8'], [14, 'Be3', 'Nc7'], [15, 'Bd2', 'a6'], [16, 'a5', 'Bc6'], [8, 'Qxb4', 'd5'], [9, 'Qb1', 'd4'], [10, 'Na4', 'Bd6'], [11, 'Nf3', 'O-O'], [12, 'Qb3', 'Ne4'], [13, 'Ba3', 'dxe3'], [7, 'Ba3', 'a6'], [8, 'Qc6', 'Ra7'], [9, 'Qa4', 'Bb7'], [10, 'bxc5', 'bxc5'], [11, 'Nf3', 'e4'], [12, 'Ng5', 'h6'], [13, 'Nh3', 'Be7'], [14, 'Be2', 'Ba8'], [15, 'O-O', 'O-O'], [16, 'Nf4', 'Ne5'], [11, 'Qd3', 'b5'], [12, 'bxc5', 'dxc5'], [13, 'Bb2', 'b4'], [15, 'Nf3', 'a4'], [16, 'a3', 'b3'], [17, 'Qb1', 'e4'], [18, 'Ne5', 'Nxe5'], [19, 'Bxe5', 'Be7'], [20, 'Bxg7', 'Rg8'], [21, 'Bb2', 'Bf6'], [22, 'Bxf6', 'Qxf6'], [11, 'bxc5', 'bxc5'], [12, 'Rb1', 'Qd8'], [13, 'Ne2', 'Nf6'], [14, 'Qd3', 'Bd7'], [15, 'Nc3', 'Bc6'], [16, 'f3', 'Be7'], [17, 'Qf5', 'Rd7'], [18, 'Be2', 'Ra7'], [19, 'Qc2', 'O-O'], [14, 'Ne2', 'Be7'], [15, 'h4', 'h5'], [16, 'Ng3', 'Ba8'], [17, 'Qd1', 'Qe6'], [18, 'e4', 'g6'], [19, 'Bc1', 'f5'], [20, 'd3', 'Nf6'], [21, 'Bg5', 'O-O'], [22, 'exf5', 'gxf5'], [23, 'Nxh5', 'f4'], [24, 'Nxf6+', 'Bxf6'], [25, 'Bxf6', 'Qxf6'], [15, 'Bxg2', 'Qxg2'], [16, 'Nf3', 'Qxh1+'], [17, 'Ke2', 'Qg2'], [18, 'Rg1', 'Qh3'], [19, 'Qc6', 'Ke7'], [20, 'Rg3', 'Qe6'], [21, 'd3', 'e4'], [23, 'dxe4', 'Rb7'], [24, 'Rg5', 'g6'], [25, 'e5', 'Nxe5'], [26, 'Nxe5', 'dxe5'], [16, 'Bxg2', 'Qxg2'], [17, 'Ke2', 'Qxh1'], [18, 'h3', 'Be7'], [19, 'Qc2', 'Bh4'], [20, 'Nf3', 'Qxh3'], [21, 'Rg1', 'Nf6'], [22, 'Qb1', 'O-O'], [23, 'Rh1', 'Qe6'], [25, 'Ng5', 'Qxc4+'], [26, 'Ke1', 'Re8'], [27, 'f3', 'Qd3'], [28, 'Qb3', 'Qxb3'], [29, 'axb3', 'exf3'], [31, 'Nxf3', 'g5'], [32, 'Ra3', 'Kg7'], [33, 'Ke2', 'Ne4'], [34, 'Kd3', 'f6'], [23, 'Qa4+', 'Nd7'], [25, 'Kd1', 'Qe1+'], [27, 'Nf3', 'Qf2'], [28, 'Rg5', 'Qxf3'], [29, 'Rxc5', 'O-O'], [31, 'Rg5+', 'Bxg5'], [32, 'Qd5', 'Bf6'], [33, 'Qd3', 'Qxd3+'], [34, 'Kxd3', 'Rc7'], [35, 'a3', 'Rd8'], [36, 'Ke2', 'Ne5'], [37, 'd4', 'Nxc4'], [39, 'Ke4', 'Bxe3'], [40, 'd5', 'Nxa3'], [32, 'e4', 'Qe5'], [33, 'Kd1', 'Qa1+'], [35, 'Qd5', 'Re5'], [36, 'Qd3', 'Nc5'], [37, 'Qg3+', 'Bg7'], [38, 'd3', 'Rae7'], [39, 'a3', 'Qxa3'], [40, 'Qe3', 'Qa2+'], [41, 'Kf3', 'Qc2'], [43, 'Qxd3', 'Nxd3'], [44, 'c5', 'Nxc5'], [45, 'Kf2', 'Rxe4'], [46, 'Kg1', 'Re3'], [47, 'Kf1', 'Re1+'], [40, 'Qb6', 'Ng3+'], [41, 'Kf3', 'Rf5+'], [42, 'Kg4', 'Qg2+'], [43, 'Kxf5', 'Qf3#'], [42, 'Qf2', 'Qh1+'], [43, 'Qd2', 'Nh1+'], [44, 'Kf4', 'Bh6#'], [43, 'Kxg3', 'Rg5+'], [45, 'Kxg5', 'Bh6+'], [45, 'Kf3', 'Rf5+'], [46, 'Qe2', 'Qxe2+'], [47, 'Kf4', 'Qe3#'], [46, 'Kg2', 'Rxf2+'], [47, 'Kh3', 'Qe3+'], [48, 'a4', 'Re3#'], [49, 'Kh5', 'Re5+']]\n"
     ]
    }
   ],
   "source": [
    "for x in moves:\n",
    "   x[0] = int(re.sub(\"\\.\",\"\",x[0]))\n",
    "print(moves)\n"
   ]
  },
  {
   "cell_type": "code",
   "execution_count": null,
   "metadata": {},
   "outputs": [
    {
     "data": {
      "text/plain": [
       "[[1, 'c4', 'e5'],\n",
       " [2, 'Nc3', 'c5'],\n",
       " [3, 'e3', 'd6'],\n",
       " [4, 'Qb3', 'Nf6'],\n",
       " [5, 'Qb5+', 'Nbd7'],\n",
       " [6, 'Be2', 'g6'],\n",
       " [7, 'Bf3', 'Bg7'],\n",
       " [8, 'd3', 'O-O'],\n",
       " [9, 'Nge2', 'Nb6'],\n",
       " [10, 'Na4', 'Bd6'],\n",
       " [11, 'Nf3', 'O-O'],\n",
       " [12, 'Qb3', 'Ne4'],\n",
       " [13, 'Ba3', 'dxe3'],\n",
       " [14, 'Be2', 'Ba8'],\n",
       " [15, 'O-O', 'O-O'],\n",
       " [16, 'Nf4', 'Ne5'],\n",
       " [17, 'Qb1', 'e4'],\n",
       " [18, 'Ne5', 'Nxe5'],\n",
       " [19, 'Bxe5', 'Be7'],\n",
       " [20, 'Bxg7', 'Rg8'],\n",
       " [21, 'Bb2', 'Bf6'],\n",
       " [22, 'Bxf6', 'Qxf6'],\n",
       " [23, 'Nxh5', 'f4'],\n",
       " [24, 'Nxf6+', 'Bxf6'],\n",
       " [25, 'Bxf6', 'Qxf6'],\n",
       " [26, 'Nxe5', 'dxe5'],\n",
       " [27, 'f3', 'Qd3'],\n",
       " [28, 'Qb3', 'Qxb3'],\n",
       " [29, 'axb3', 'exf3']]"
      ]
     },
     "execution_count": 27,
     "metadata": {},
     "output_type": "execute_result"
    }
   ],
   "source": [
    "pos = 1\n",
    "ol = []\n",
    "for x in moves:\n",
    "   if x[0] == pos:\n",
    "      ol.append(x)\n",
    "      pos += 1\n",
    "ol"
   ]
  }
 ],
 "metadata": {
  "interpreter": {
   "hash": "4f946df053fbf2b937619d3c5458e7af74262f9a954d8797ba0b27400bcafe06"
  },
  "kernelspec": {
   "display_name": "Python 3.8.12 64-bit",
   "language": "python",
   "name": "python3"
  },
  "language_info": {
   "codemirror_mode": {
    "name": "ipython",
    "version": 3
   },
   "file_extension": ".py",
   "mimetype": "text/x-python",
   "name": "python",
   "nbconvert_exporter": "python",
   "pygments_lexer": "ipython3",
   "version": "3.8.12"
  },
  "orig_nbformat": 4
 },
 "nbformat": 4,
 "nbformat_minor": 2
}
