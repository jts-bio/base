{
 "cells": [
  {
   "cell_type": "code",
   "execution_count": 3,
   "metadata": {},
   "outputs": [],
   "source": [
    "import re\n",
    "import yaml\n",
    "from yaml import loader,Loader,dumper,Dumper\n",
    "import pandas as pd"
   ]
  },
  {
   "cell_type": "code",
   "execution_count": 4,
   "metadata": {},
   "outputs": [],
   "source": [
    "def yml_to_csv (rawtext:str) :\n",
    "   s = re.sub (\"\\s:\\s\",\",\",rawtext)\n",
    "   return s"
   ]
  },
  {
   "cell_type": "code",
   "execution_count": 5,
   "metadata": {},
   "outputs": [],
   "source": [
    "data = \"\"\"\\\n",
    "HHV1 : \n",
    "   &n name : herpes simplex-1\n",
    "   &st subtype : alpha\n",
    "HHV3 : \n",
    "   *n : varicella zoster\n",
    "   *st : alpha\n",
    "HHV4 : \n",
    "   *n : Epstein-Barr virus\n",
    "   *st : gamma\n",
    "HHV5 : \n",
    "   *n : cytomegalovirus\n",
    "   *st : beta\n",
    "HHV8 : \n",
    "   *n : Kaposi's sarcoma-associated herpesvirus\n",
    "   *st : gamma\n",
    "\"\"\""
   ]
  },
  {
   "cell_type": "code",
   "execution_count": 6,
   "metadata": {},
   "outputs": [
    {
     "data": {
      "text/plain": [
       "{'HHV1': {'name': 'herpes simplex-1', 'subtype': 'alpha'},\n",
       " 'HHV3': {'name': 'varicella zoster', 'subtype': 'alpha'},\n",
       " 'HHV4': {'name': 'Epstein-Barr virus', 'subtype': 'gamma'},\n",
       " 'HHV5': {'name': 'cytomegalovirus', 'subtype': 'beta'},\n",
       " 'HHV8': {'name': \"Kaposi's sarcoma-associated herpesvirus\",\n",
       "  'subtype': 'gamma'}}"
      ]
     },
     "execution_count": 6,
     "metadata": {},
     "output_type": "execute_result"
    }
   ],
   "source": [
    "yml = yaml.load (data, Loader=Loader)\n",
    "yml"
   ]
  },
  {
   "cell_type": "code",
   "execution_count": 7,
   "metadata": {},
   "outputs": [
    {
     "data": {
      "text/html": [
       "<div>\n",
       "<style scoped>\n",
       "    .dataframe tbody tr th:only-of-type {\n",
       "        vertical-align: middle;\n",
       "    }\n",
       "\n",
       "    .dataframe tbody tr th {\n",
       "        vertical-align: top;\n",
       "    }\n",
       "\n",
       "    .dataframe thead th {\n",
       "        text-align: right;\n",
       "    }\n",
       "</style>\n",
       "<table border=\"1\" class=\"dataframe\">\n",
       "  <thead>\n",
       "    <tr style=\"text-align: right;\">\n",
       "      <th></th>\n",
       "      <th>name</th>\n",
       "      <th>subtype</th>\n",
       "    </tr>\n",
       "  </thead>\n",
       "  <tbody>\n",
       "    <tr>\n",
       "      <th>HHV1</th>\n",
       "      <td>herpes simplex-1</td>\n",
       "      <td>alpha</td>\n",
       "    </tr>\n",
       "    <tr>\n",
       "      <th>HHV3</th>\n",
       "      <td>varicella zoster</td>\n",
       "      <td>alpha</td>\n",
       "    </tr>\n",
       "    <tr>\n",
       "      <th>HHV4</th>\n",
       "      <td>Epstein-Barr virus</td>\n",
       "      <td>gamma</td>\n",
       "    </tr>\n",
       "    <tr>\n",
       "      <th>HHV5</th>\n",
       "      <td>cytomegalovirus</td>\n",
       "      <td>beta</td>\n",
       "    </tr>\n",
       "    <tr>\n",
       "      <th>HHV8</th>\n",
       "      <td>Kaposi's sarcoma-associated herpesvirus</td>\n",
       "      <td>gamma</td>\n",
       "    </tr>\n",
       "  </tbody>\n",
       "</table>\n",
       "</div>"
      ],
      "text/plain": [
       "                                         name subtype\n",
       "HHV1                         herpes simplex-1   alpha\n",
       "HHV3                         varicella zoster   alpha\n",
       "HHV4                       Epstein-Barr virus   gamma\n",
       "HHV5                          cytomegalovirus    beta\n",
       "HHV8  Kaposi's sarcoma-associated herpesvirus   gamma"
      ]
     },
     "execution_count": 7,
     "metadata": {},
     "output_type": "execute_result"
    }
   ],
   "source": [
    "df = pd.DataFrame (yml).transpose()\n",
    "sub = df.groupby(\"subtype\").size()\n",
    "df"
   ]
  },
  {
   "cell_type": "code",
   "execution_count": 8,
   "metadata": {},
   "outputs": [
    {
     "data": {
      "text/plain": [
       "\"HHV1,\\n   &n name,herpes simplex-1\\n   &st subtype,alpha\\nHHV3,\\n   *n,varicella zoster\\n   *st,alpha\\nHHV4,\\n   *n,Epstein-Barr virus\\n   *st,gamma\\nHHV5,\\n   *n,cytomegalovirus\\n   *st,beta\\nHHV8,\\n   *n,Kaposi's sarcoma-associated herpesvirus\\n   *st,gamma\\n\""
      ]
     },
     "execution_count": 8,
     "metadata": {},
     "output_type": "execute_result"
    }
   ],
   "source": [
    "csv = yml_to_csv(data)\n",
    "csv"
   ]
  },
  {
   "cell_type": "code",
   "execution_count": 9,
   "metadata": {},
   "outputs": [],
   "source": [
    "f = open(\"hhv.csv\",\"w\")\n",
    "f.write(csv)\n",
    "f.close()"
   ]
  },
  {
   "cell_type": "code",
   "execution_count": 34,
   "metadata": {},
   "outputs": [],
   "source": [
    "ex = \"\"\"\\\n",
    "!bad badd :\n",
    "  - Chicago cubs\n",
    "  - 2001-07-23\n",
    "\n",
    "\"\"\""
   ]
  },
  {
   "cell_type": "code",
   "execution_count": 35,
   "metadata": {},
   "outputs": [
    {
     "ename": "ConstructorError",
     "evalue": "could not determine a constructor for the tag '!bad'\n  in \"<unicode string>\", line 1, column 1:\n    !bad badd :\n    ^",
     "output_type": "error",
     "traceback": [
      "\u001b[0;31m---------------------------------------------------------------------------\u001b[0m",
      "\u001b[0;31mConstructorError\u001b[0m                          Traceback (most recent call last)",
      "\u001b[1;32m/workspaces/base/Virus data/yml-to-csv.ipynb Cell 10'\u001b[0m in \u001b[0;36m<cell line: 1>\u001b[0;34m()\u001b[0m\n\u001b[0;32m----> <a href='vscode-notebook-cell://codespaces%2Bjsteinbecker-jts-bio-base-wrx46jv4p2vgp6/workspaces/base/Virus%20data/yml-to-csv.ipynb#ch0000013vscode-remote?line=0'>1</a>\u001b[0m yml \u001b[39m=\u001b[39m yaml\u001b[39m.\u001b[39;49mload(ex,Loader\u001b[39m=\u001b[39;49mLoader)\n\u001b[1;32m      <a href='vscode-notebook-cell://codespaces%2Bjsteinbecker-jts-bio-base-wrx46jv4p2vgp6/workspaces/base/Virus%20data/yml-to-csv.ipynb#ch0000013vscode-remote?line=1'>2</a>\u001b[0m yml\n",
      "File \u001b[0;32m/opt/python/3.8.12/lib/python3.8/site-packages/yaml/__init__.py:81\u001b[0m, in \u001b[0;36mload\u001b[0;34m(stream, Loader)\u001b[0m\n\u001b[1;32m     <a href='file:///opt/python/3.8.12/lib/python3.8/site-packages/yaml/__init__.py?line=78'>79</a>\u001b[0m loader \u001b[39m=\u001b[39m Loader(stream)\n\u001b[1;32m     <a href='file:///opt/python/3.8.12/lib/python3.8/site-packages/yaml/__init__.py?line=79'>80</a>\u001b[0m \u001b[39mtry\u001b[39;00m:\n\u001b[0;32m---> <a href='file:///opt/python/3.8.12/lib/python3.8/site-packages/yaml/__init__.py?line=80'>81</a>\u001b[0m     \u001b[39mreturn\u001b[39;00m loader\u001b[39m.\u001b[39;49mget_single_data()\n\u001b[1;32m     <a href='file:///opt/python/3.8.12/lib/python3.8/site-packages/yaml/__init__.py?line=81'>82</a>\u001b[0m \u001b[39mfinally\u001b[39;00m:\n\u001b[1;32m     <a href='file:///opt/python/3.8.12/lib/python3.8/site-packages/yaml/__init__.py?line=82'>83</a>\u001b[0m     loader\u001b[39m.\u001b[39mdispose()\n",
      "File \u001b[0;32m/opt/python/3.8.12/lib/python3.8/site-packages/yaml/constructor.py:51\u001b[0m, in \u001b[0;36mBaseConstructor.get_single_data\u001b[0;34m(self)\u001b[0m\n\u001b[1;32m     <a href='file:///opt/python/3.8.12/lib/python3.8/site-packages/yaml/constructor.py?line=48'>49</a>\u001b[0m node \u001b[39m=\u001b[39m \u001b[39mself\u001b[39m\u001b[39m.\u001b[39mget_single_node()\n\u001b[1;32m     <a href='file:///opt/python/3.8.12/lib/python3.8/site-packages/yaml/constructor.py?line=49'>50</a>\u001b[0m \u001b[39mif\u001b[39;00m node \u001b[39mis\u001b[39;00m \u001b[39mnot\u001b[39;00m \u001b[39mNone\u001b[39;00m:\n\u001b[0;32m---> <a href='file:///opt/python/3.8.12/lib/python3.8/site-packages/yaml/constructor.py?line=50'>51</a>\u001b[0m     \u001b[39mreturn\u001b[39;00m \u001b[39mself\u001b[39;49m\u001b[39m.\u001b[39;49mconstruct_document(node)\n\u001b[1;32m     <a href='file:///opt/python/3.8.12/lib/python3.8/site-packages/yaml/constructor.py?line=51'>52</a>\u001b[0m \u001b[39mreturn\u001b[39;00m \u001b[39mNone\u001b[39;00m\n",
      "File \u001b[0;32m/opt/python/3.8.12/lib/python3.8/site-packages/yaml/constructor.py:60\u001b[0m, in \u001b[0;36mBaseConstructor.construct_document\u001b[0;34m(self, node)\u001b[0m\n\u001b[1;32m     <a href='file:///opt/python/3.8.12/lib/python3.8/site-packages/yaml/constructor.py?line=57'>58</a>\u001b[0m     \u001b[39mself\u001b[39m\u001b[39m.\u001b[39mstate_generators \u001b[39m=\u001b[39m []\n\u001b[1;32m     <a href='file:///opt/python/3.8.12/lib/python3.8/site-packages/yaml/constructor.py?line=58'>59</a>\u001b[0m     \u001b[39mfor\u001b[39;00m generator \u001b[39min\u001b[39;00m state_generators:\n\u001b[0;32m---> <a href='file:///opt/python/3.8.12/lib/python3.8/site-packages/yaml/constructor.py?line=59'>60</a>\u001b[0m         \u001b[39mfor\u001b[39;00m dummy \u001b[39min\u001b[39;00m generator:\n\u001b[1;32m     <a href='file:///opt/python/3.8.12/lib/python3.8/site-packages/yaml/constructor.py?line=60'>61</a>\u001b[0m             \u001b[39mpass\u001b[39;00m\n\u001b[1;32m     <a href='file:///opt/python/3.8.12/lib/python3.8/site-packages/yaml/constructor.py?line=61'>62</a>\u001b[0m \u001b[39mself\u001b[39m\u001b[39m.\u001b[39mconstructed_objects \u001b[39m=\u001b[39m {}\n",
      "File \u001b[0;32m/opt/python/3.8.12/lib/python3.8/site-packages/yaml/constructor.py:413\u001b[0m, in \u001b[0;36mSafeConstructor.construct_yaml_map\u001b[0;34m(self, node)\u001b[0m\n\u001b[1;32m    <a href='file:///opt/python/3.8.12/lib/python3.8/site-packages/yaml/constructor.py?line=410'>411</a>\u001b[0m data \u001b[39m=\u001b[39m {}\n\u001b[1;32m    <a href='file:///opt/python/3.8.12/lib/python3.8/site-packages/yaml/constructor.py?line=411'>412</a>\u001b[0m \u001b[39myield\u001b[39;00m data\n\u001b[0;32m--> <a href='file:///opt/python/3.8.12/lib/python3.8/site-packages/yaml/constructor.py?line=412'>413</a>\u001b[0m value \u001b[39m=\u001b[39m \u001b[39mself\u001b[39;49m\u001b[39m.\u001b[39;49mconstruct_mapping(node)\n\u001b[1;32m    <a href='file:///opt/python/3.8.12/lib/python3.8/site-packages/yaml/constructor.py?line=413'>414</a>\u001b[0m data\u001b[39m.\u001b[39mupdate(value)\n",
      "File \u001b[0;32m/opt/python/3.8.12/lib/python3.8/site-packages/yaml/constructor.py:218\u001b[0m, in \u001b[0;36mSafeConstructor.construct_mapping\u001b[0;34m(self, node, deep)\u001b[0m\n\u001b[1;32m    <a href='file:///opt/python/3.8.12/lib/python3.8/site-packages/yaml/constructor.py?line=215'>216</a>\u001b[0m \u001b[39mif\u001b[39;00m \u001b[39misinstance\u001b[39m(node, MappingNode):\n\u001b[1;32m    <a href='file:///opt/python/3.8.12/lib/python3.8/site-packages/yaml/constructor.py?line=216'>217</a>\u001b[0m     \u001b[39mself\u001b[39m\u001b[39m.\u001b[39mflatten_mapping(node)\n\u001b[0;32m--> <a href='file:///opt/python/3.8.12/lib/python3.8/site-packages/yaml/constructor.py?line=217'>218</a>\u001b[0m \u001b[39mreturn\u001b[39;00m \u001b[39msuper\u001b[39;49m()\u001b[39m.\u001b[39;49mconstruct_mapping(node, deep\u001b[39m=\u001b[39;49mdeep)\n",
      "File \u001b[0;32m/opt/python/3.8.12/lib/python3.8/site-packages/yaml/constructor.py:139\u001b[0m, in \u001b[0;36mBaseConstructor.construct_mapping\u001b[0;34m(self, node, deep)\u001b[0m\n\u001b[1;32m    <a href='file:///opt/python/3.8.12/lib/python3.8/site-packages/yaml/constructor.py?line=136'>137</a>\u001b[0m mapping \u001b[39m=\u001b[39m {}\n\u001b[1;32m    <a href='file:///opt/python/3.8.12/lib/python3.8/site-packages/yaml/constructor.py?line=137'>138</a>\u001b[0m \u001b[39mfor\u001b[39;00m key_node, value_node \u001b[39min\u001b[39;00m node\u001b[39m.\u001b[39mvalue:\n\u001b[0;32m--> <a href='file:///opt/python/3.8.12/lib/python3.8/site-packages/yaml/constructor.py?line=138'>139</a>\u001b[0m     key \u001b[39m=\u001b[39m \u001b[39mself\u001b[39;49m\u001b[39m.\u001b[39;49mconstruct_object(key_node, deep\u001b[39m=\u001b[39;49mdeep)\n\u001b[1;32m    <a href='file:///opt/python/3.8.12/lib/python3.8/site-packages/yaml/constructor.py?line=139'>140</a>\u001b[0m     \u001b[39mif\u001b[39;00m \u001b[39mnot\u001b[39;00m \u001b[39misinstance\u001b[39m(key, collections\u001b[39m.\u001b[39mabc\u001b[39m.\u001b[39mHashable):\n\u001b[1;32m    <a href='file:///opt/python/3.8.12/lib/python3.8/site-packages/yaml/constructor.py?line=140'>141</a>\u001b[0m         \u001b[39mraise\u001b[39;00m ConstructorError(\u001b[39m\"\u001b[39m\u001b[39mwhile constructing a mapping\u001b[39m\u001b[39m\"\u001b[39m, node\u001b[39m.\u001b[39mstart_mark,\n\u001b[1;32m    <a href='file:///opt/python/3.8.12/lib/python3.8/site-packages/yaml/constructor.py?line=141'>142</a>\u001b[0m                 \u001b[39m\"\u001b[39m\u001b[39mfound unhashable key\u001b[39m\u001b[39m\"\u001b[39m, key_node\u001b[39m.\u001b[39mstart_mark)\n",
      "File \u001b[0;32m/opt/python/3.8.12/lib/python3.8/site-packages/yaml/constructor.py:100\u001b[0m, in \u001b[0;36mBaseConstructor.construct_object\u001b[0;34m(self, node, deep)\u001b[0m\n\u001b[1;32m     <a href='file:///opt/python/3.8.12/lib/python3.8/site-packages/yaml/constructor.py?line=97'>98</a>\u001b[0m             constructor \u001b[39m=\u001b[39m \u001b[39mself\u001b[39m\u001b[39m.\u001b[39m\u001b[39m__class__\u001b[39m\u001b[39m.\u001b[39mconstruct_mapping\n\u001b[1;32m     <a href='file:///opt/python/3.8.12/lib/python3.8/site-packages/yaml/constructor.py?line=98'>99</a>\u001b[0m \u001b[39mif\u001b[39;00m tag_suffix \u001b[39mis\u001b[39;00m \u001b[39mNone\u001b[39;00m:\n\u001b[0;32m--> <a href='file:///opt/python/3.8.12/lib/python3.8/site-packages/yaml/constructor.py?line=99'>100</a>\u001b[0m     data \u001b[39m=\u001b[39m constructor(\u001b[39mself\u001b[39;49m, node)\n\u001b[1;32m    <a href='file:///opt/python/3.8.12/lib/python3.8/site-packages/yaml/constructor.py?line=100'>101</a>\u001b[0m \u001b[39melse\u001b[39;00m:\n\u001b[1;32m    <a href='file:///opt/python/3.8.12/lib/python3.8/site-packages/yaml/constructor.py?line=101'>102</a>\u001b[0m     data \u001b[39m=\u001b[39m constructor(\u001b[39mself\u001b[39m, tag_suffix, node)\n",
      "File \u001b[0;32m/opt/python/3.8.12/lib/python3.8/site-packages/yaml/constructor.py:427\u001b[0m, in \u001b[0;36mSafeConstructor.construct_undefined\u001b[0;34m(self, node)\u001b[0m\n\u001b[1;32m    <a href='file:///opt/python/3.8.12/lib/python3.8/site-packages/yaml/constructor.py?line=425'>426</a>\u001b[0m \u001b[39mdef\u001b[39;00m \u001b[39mconstruct_undefined\u001b[39m(\u001b[39mself\u001b[39m, node):\n\u001b[0;32m--> <a href='file:///opt/python/3.8.12/lib/python3.8/site-packages/yaml/constructor.py?line=426'>427</a>\u001b[0m     \u001b[39mraise\u001b[39;00m ConstructorError(\u001b[39mNone\u001b[39;00m, \u001b[39mNone\u001b[39;00m,\n\u001b[1;32m    <a href='file:///opt/python/3.8.12/lib/python3.8/site-packages/yaml/constructor.py?line=427'>428</a>\u001b[0m             \u001b[39m\"\u001b[39m\u001b[39mcould not determine a constructor for the tag \u001b[39m\u001b[39m%r\u001b[39;00m\u001b[39m\"\u001b[39m \u001b[39m%\u001b[39m node\u001b[39m.\u001b[39mtag,\n\u001b[1;32m    <a href='file:///opt/python/3.8.12/lib/python3.8/site-packages/yaml/constructor.py?line=428'>429</a>\u001b[0m             node\u001b[39m.\u001b[39mstart_mark)\n",
      "\u001b[0;31mConstructorError\u001b[0m: could not determine a constructor for the tag '!bad'\n  in \"<unicode string>\", line 1, column 1:\n    !bad badd :\n    ^"
     ]
    }
   ],
   "source": [
    "yml = yaml.load(ex,Loader=Loader)\n",
    "yml"
   ]
  }
 ],
 "metadata": {
  "interpreter": {
   "hash": "4f946df053fbf2b937619d3c5458e7af74262f9a954d8797ba0b27400bcafe06"
  },
  "kernelspec": {
   "display_name": "Python 3.8.12 64-bit",
   "language": "python",
   "name": "python3"
  },
  "language_info": {
   "codemirror_mode": {
    "name": "ipython",
    "version": 3
   },
   "file_extension": ".py",
   "mimetype": "text/x-python",
   "name": "python",
   "nbconvert_exporter": "python",
   "pygments_lexer": "ipython3",
   "version": "3.8.12"
  },
  "orig_nbformat": 4
 },
 "nbformat": 4,
 "nbformat_minor": 2
}
