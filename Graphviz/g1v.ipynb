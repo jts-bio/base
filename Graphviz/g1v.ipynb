{
 "cells": [
  {
   "cell_type": "code",
   "execution_count": 1,
   "metadata": {},
   "outputs": [
    {
     "name": "stdout",
     "output_type": "stream",
     "text": [
      "Requirement already satisfied: pydot in /opt/python/3.8.12/lib/python3.8/site-packages (1.4.2)\n",
      "Requirement already satisfied: pyparsing>=2.1.4 in /opt/python/3.8.12/lib/python3.8/site-packages (from pydot) (3.0.7)\n",
      "\u001b[33mWARNING: You are using pip version 22.0.3; however, version 22.0.4 is available.\n",
      "You should consider upgrading via the '/opt/python/latest/bin/python -m pip install --upgrade pip' command.\u001b[0m\u001b[33m\n",
      "\u001b[0mNote: you may need to restart the kernel to use updated packages.\n"
     ]
    }
   ],
   "source": [
    "%pip install pydot"
   ]
  },
  {
   "cell_type": "code",
   "execution_count": 2,
   "metadata": {},
   "outputs": [],
   "source": [
    "import pydot"
   ]
  },
  {
   "cell_type": "code",
   "execution_count": 3,
   "metadata": {},
   "outputs": [],
   "source": [
    "dot_string = \"\"\"graph my_graph {\n",
    "    bgcolor=\"yellow\";\n",
    "    a [label=\"Foo\"];\n",
    "    b [shape=circle];\n",
    "    a -- b -- c [color=blue];\n",
    "}\"\"\"\n",
    "\n",
    "graphs = pydot.graph_from_dot_data(dot_string)\n",
    "graph = graphs[0]"
   ]
  },
  {
   "cell_type": "code",
   "execution_count": 8,
   "metadata": {},
   "outputs": [
    {
     "ename": "FileNotFoundError",
     "evalue": "[Errno 2] \"dot\" not found in path.",
     "output_type": "error",
     "traceback": [
      "\u001b[0;31m---------------------------------------------------------------------------\u001b[0m",
      "\u001b[0;31mFileNotFoundError\u001b[0m                         Traceback (most recent call last)",
      "File \u001b[0;32m/opt/python/3.8.12/lib/python3.8/site-packages/pydot.py:1923\u001b[0m, in \u001b[0;36mDot.create\u001b[0;34m(self, prog, format, encoding)\u001b[0m\n\u001b[1;32m   <a href='file:///opt/python/3.8.12/lib/python3.8/site-packages/pydot.py?line=1921'>1922</a>\u001b[0m \u001b[39mtry\u001b[39;00m:\n\u001b[0;32m-> <a href='file:///opt/python/3.8.12/lib/python3.8/site-packages/pydot.py?line=1922'>1923</a>\u001b[0m     stdout_data, stderr_data, process \u001b[39m=\u001b[39m call_graphviz(\n\u001b[1;32m   <a href='file:///opt/python/3.8.12/lib/python3.8/site-packages/pydot.py?line=1923'>1924</a>\u001b[0m         program\u001b[39m=\u001b[39;49mprog,\n\u001b[1;32m   <a href='file:///opt/python/3.8.12/lib/python3.8/site-packages/pydot.py?line=1924'>1925</a>\u001b[0m         arguments\u001b[39m=\u001b[39;49marguments,\n\u001b[1;32m   <a href='file:///opt/python/3.8.12/lib/python3.8/site-packages/pydot.py?line=1925'>1926</a>\u001b[0m         working_dir\u001b[39m=\u001b[39;49mtmp_dir,\n\u001b[1;32m   <a href='file:///opt/python/3.8.12/lib/python3.8/site-packages/pydot.py?line=1926'>1927</a>\u001b[0m     )\n\u001b[1;32m   <a href='file:///opt/python/3.8.12/lib/python3.8/site-packages/pydot.py?line=1927'>1928</a>\u001b[0m \u001b[39mexcept\u001b[39;00m \u001b[39mOSError\u001b[39;00m \u001b[39mas\u001b[39;00m e:\n",
      "File \u001b[0;32m/opt/python/3.8.12/lib/python3.8/site-packages/pydot.py:132\u001b[0m, in \u001b[0;36mcall_graphviz\u001b[0;34m(program, arguments, working_dir, **kwargs)\u001b[0m\n\u001b[1;32m    <a href='file:///opt/python/3.8.12/lib/python3.8/site-packages/pydot.py?line=129'>130</a>\u001b[0m program_with_args \u001b[39m=\u001b[39m [program, ] \u001b[39m+\u001b[39m arguments\n\u001b[0;32m--> <a href='file:///opt/python/3.8.12/lib/python3.8/site-packages/pydot.py?line=131'>132</a>\u001b[0m process \u001b[39m=\u001b[39m subprocess\u001b[39m.\u001b[39;49mPopen(\n\u001b[1;32m    <a href='file:///opt/python/3.8.12/lib/python3.8/site-packages/pydot.py?line=132'>133</a>\u001b[0m     program_with_args,\n\u001b[1;32m    <a href='file:///opt/python/3.8.12/lib/python3.8/site-packages/pydot.py?line=133'>134</a>\u001b[0m     env\u001b[39m=\u001b[39;49menv,\n\u001b[1;32m    <a href='file:///opt/python/3.8.12/lib/python3.8/site-packages/pydot.py?line=134'>135</a>\u001b[0m     cwd\u001b[39m=\u001b[39;49mworking_dir,\n\u001b[1;32m    <a href='file:///opt/python/3.8.12/lib/python3.8/site-packages/pydot.py?line=135'>136</a>\u001b[0m     shell\u001b[39m=\u001b[39;49m\u001b[39mFalse\u001b[39;49;00m,\n\u001b[1;32m    <a href='file:///opt/python/3.8.12/lib/python3.8/site-packages/pydot.py?line=136'>137</a>\u001b[0m     stderr\u001b[39m=\u001b[39;49msubprocess\u001b[39m.\u001b[39;49mPIPE,\n\u001b[1;32m    <a href='file:///opt/python/3.8.12/lib/python3.8/site-packages/pydot.py?line=137'>138</a>\u001b[0m     stdout\u001b[39m=\u001b[39;49msubprocess\u001b[39m.\u001b[39;49mPIPE,\n\u001b[1;32m    <a href='file:///opt/python/3.8.12/lib/python3.8/site-packages/pydot.py?line=138'>139</a>\u001b[0m     \u001b[39m*\u001b[39;49m\u001b[39m*\u001b[39;49mkwargs\n\u001b[1;32m    <a href='file:///opt/python/3.8.12/lib/python3.8/site-packages/pydot.py?line=139'>140</a>\u001b[0m )\n\u001b[1;32m    <a href='file:///opt/python/3.8.12/lib/python3.8/site-packages/pydot.py?line=140'>141</a>\u001b[0m stdout_data, stderr_data \u001b[39m=\u001b[39m process\u001b[39m.\u001b[39mcommunicate()\n",
      "File \u001b[0;32m/opt/python/3.8.12/lib/python3.8/subprocess.py:858\u001b[0m, in \u001b[0;36mPopen.__init__\u001b[0;34m(self, args, bufsize, executable, stdin, stdout, stderr, preexec_fn, close_fds, shell, cwd, env, universal_newlines, startupinfo, creationflags, restore_signals, start_new_session, pass_fds, encoding, errors, text)\u001b[0m\n\u001b[1;32m    <a href='file:///opt/python/3.8.12/lib/python3.8/subprocess.py?line=854'>855</a>\u001b[0m             \u001b[39mself\u001b[39m\u001b[39m.\u001b[39mstderr \u001b[39m=\u001b[39m io\u001b[39m.\u001b[39mTextIOWrapper(\u001b[39mself\u001b[39m\u001b[39m.\u001b[39mstderr,\n\u001b[1;32m    <a href='file:///opt/python/3.8.12/lib/python3.8/subprocess.py?line=855'>856</a>\u001b[0m                     encoding\u001b[39m=\u001b[39mencoding, errors\u001b[39m=\u001b[39merrors)\n\u001b[0;32m--> <a href='file:///opt/python/3.8.12/lib/python3.8/subprocess.py?line=857'>858</a>\u001b[0m     \u001b[39mself\u001b[39;49m\u001b[39m.\u001b[39;49m_execute_child(args, executable, preexec_fn, close_fds,\n\u001b[1;32m    <a href='file:///opt/python/3.8.12/lib/python3.8/subprocess.py?line=858'>859</a>\u001b[0m                         pass_fds, cwd, env,\n\u001b[1;32m    <a href='file:///opt/python/3.8.12/lib/python3.8/subprocess.py?line=859'>860</a>\u001b[0m                         startupinfo, creationflags, shell,\n\u001b[1;32m    <a href='file:///opt/python/3.8.12/lib/python3.8/subprocess.py?line=860'>861</a>\u001b[0m                         p2cread, p2cwrite,\n\u001b[1;32m    <a href='file:///opt/python/3.8.12/lib/python3.8/subprocess.py?line=861'>862</a>\u001b[0m                         c2pread, c2pwrite,\n\u001b[1;32m    <a href='file:///opt/python/3.8.12/lib/python3.8/subprocess.py?line=862'>863</a>\u001b[0m                         errread, errwrite,\n\u001b[1;32m    <a href='file:///opt/python/3.8.12/lib/python3.8/subprocess.py?line=863'>864</a>\u001b[0m                         restore_signals, start_new_session)\n\u001b[1;32m    <a href='file:///opt/python/3.8.12/lib/python3.8/subprocess.py?line=864'>865</a>\u001b[0m \u001b[39mexcept\u001b[39;00m:\n\u001b[1;32m    <a href='file:///opt/python/3.8.12/lib/python3.8/subprocess.py?line=865'>866</a>\u001b[0m     \u001b[39m# Cleanup if the child failed starting.\u001b[39;00m\n",
      "File \u001b[0;32m/opt/python/3.8.12/lib/python3.8/subprocess.py:1704\u001b[0m, in \u001b[0;36mPopen._execute_child\u001b[0;34m(self, args, executable, preexec_fn, close_fds, pass_fds, cwd, env, startupinfo, creationflags, shell, p2cread, p2cwrite, c2pread, c2pwrite, errread, errwrite, restore_signals, start_new_session)\u001b[0m\n\u001b[1;32m   <a href='file:///opt/python/3.8.12/lib/python3.8/subprocess.py?line=1702'>1703</a>\u001b[0m         err_msg \u001b[39m=\u001b[39m os\u001b[39m.\u001b[39mstrerror(errno_num)\n\u001b[0;32m-> <a href='file:///opt/python/3.8.12/lib/python3.8/subprocess.py?line=1703'>1704</a>\u001b[0m     \u001b[39mraise\u001b[39;00m child_exception_type(errno_num, err_msg, err_filename)\n\u001b[1;32m   <a href='file:///opt/python/3.8.12/lib/python3.8/subprocess.py?line=1704'>1705</a>\u001b[0m \u001b[39mraise\u001b[39;00m child_exception_type(err_msg)\n",
      "\u001b[0;31mFileNotFoundError\u001b[0m: [Errno 2] No such file or directory: 'dot'",
      "\nDuring handling of the above exception, another exception occurred:\n",
      "\u001b[0;31mFileNotFoundError\u001b[0m                         Traceback (most recent call last)",
      "\u001b[1;32m/workspaces/base/Graphviz/g1v.ipynb Cell 4'\u001b[0m in \u001b[0;36m<cell line: 1>\u001b[0;34m()\u001b[0m\n\u001b[0;32m----> <a href='vscode-notebook-cell://codespaces%2Bjsteinbecker-jts-bio-base-wrx46jv4p2vgp6/workspaces/base/Graphviz/g1v.ipynb#ch0000003vscode-remote?line=0'>1</a>\u001b[0m graph\u001b[39m.\u001b[39;49mcreate_dot()\n",
      "File \u001b[0;32m/opt/python/3.8.12/lib/python3.8/site-packages/pydot.py:1733\u001b[0m, in \u001b[0;36mDot.__init__.<locals>.new_method\u001b[0;34m(f, prog, encoding)\u001b[0m\n\u001b[1;32m   <a href='file:///opt/python/3.8.12/lib/python3.8/site-packages/pydot.py?line=1728'>1729</a>\u001b[0m \u001b[39mdef\u001b[39;00m \u001b[39mnew_method\u001b[39m(\n\u001b[1;32m   <a href='file:///opt/python/3.8.12/lib/python3.8/site-packages/pydot.py?line=1729'>1730</a>\u001b[0m         f\u001b[39m=\u001b[39mfrmt, prog\u001b[39m=\u001b[39m\u001b[39mself\u001b[39m\u001b[39m.\u001b[39mprog,\n\u001b[1;32m   <a href='file:///opt/python/3.8.12/lib/python3.8/site-packages/pydot.py?line=1730'>1731</a>\u001b[0m         encoding\u001b[39m=\u001b[39m\u001b[39mNone\u001b[39;00m):\n\u001b[1;32m   <a href='file:///opt/python/3.8.12/lib/python3.8/site-packages/pydot.py?line=1731'>1732</a>\u001b[0m     \u001b[39m\"\"\"Refer to docstring of method `create`.\"\"\"\u001b[39;00m\n\u001b[0;32m-> <a href='file:///opt/python/3.8.12/lib/python3.8/site-packages/pydot.py?line=1732'>1733</a>\u001b[0m     \u001b[39mreturn\u001b[39;00m \u001b[39mself\u001b[39;49m\u001b[39m.\u001b[39;49mcreate(\n\u001b[1;32m   <a href='file:///opt/python/3.8.12/lib/python3.8/site-packages/pydot.py?line=1733'>1734</a>\u001b[0m         \u001b[39mformat\u001b[39;49m\u001b[39m=\u001b[39;49mf, prog\u001b[39m=\u001b[39;49mprog, encoding\u001b[39m=\u001b[39;49mencoding)\n",
      "File \u001b[0;32m/opt/python/3.8.12/lib/python3.8/site-packages/pydot.py:1933\u001b[0m, in \u001b[0;36mDot.create\u001b[0;34m(self, prog, format, encoding)\u001b[0m\n\u001b[1;32m   <a href='file:///opt/python/3.8.12/lib/python3.8/site-packages/pydot.py?line=1929'>1930</a>\u001b[0m     args \u001b[39m=\u001b[39m \u001b[39mlist\u001b[39m(e\u001b[39m.\u001b[39margs)\n\u001b[1;32m   <a href='file:///opt/python/3.8.12/lib/python3.8/site-packages/pydot.py?line=1930'>1931</a>\u001b[0m     args[\u001b[39m1\u001b[39m] \u001b[39m=\u001b[39m \u001b[39m'\u001b[39m\u001b[39m\"\u001b[39m\u001b[39m{prog}\u001b[39;00m\u001b[39m\"\u001b[39m\u001b[39m not found in path.\u001b[39m\u001b[39m'\u001b[39m\u001b[39m.\u001b[39mformat(\n\u001b[1;32m   <a href='file:///opt/python/3.8.12/lib/python3.8/site-packages/pydot.py?line=1931'>1932</a>\u001b[0m         prog\u001b[39m=\u001b[39mprog)\n\u001b[0;32m-> <a href='file:///opt/python/3.8.12/lib/python3.8/site-packages/pydot.py?line=1932'>1933</a>\u001b[0m     \u001b[39mraise\u001b[39;00m \u001b[39mOSError\u001b[39;00m(\u001b[39m*\u001b[39margs)\n\u001b[1;32m   <a href='file:///opt/python/3.8.12/lib/python3.8/site-packages/pydot.py?line=1933'>1934</a>\u001b[0m \u001b[39melse\u001b[39;00m:\n\u001b[1;32m   <a href='file:///opt/python/3.8.12/lib/python3.8/site-packages/pydot.py?line=1934'>1935</a>\u001b[0m     \u001b[39mraise\u001b[39;00m\n",
      "\u001b[0;31mFileNotFoundError\u001b[0m: [Errno 2] \"dot\" not found in path."
     ]
    }
   ],
   "source": [
    "graph.create_dot()"
   ]
  },
  {
   "cell_type": "code",
   "execution_count": null,
   "metadata": {},
   "outputs": [],
   "source": []
  }
 ],
 "metadata": {
  "interpreter": {
   "hash": "4f946df053fbf2b937619d3c5458e7af74262f9a954d8797ba0b27400bcafe06"
  },
  "kernelspec": {
   "display_name": "Python 3.8.12 64-bit",
   "language": "python",
   "name": "python3"
  },
  "language_info": {
   "codemirror_mode": {
    "name": "ipython",
    "version": 3
   },
   "file_extension": ".py",
   "mimetype": "text/x-python",
   "name": "python",
   "nbconvert_exporter": "python",
   "pygments_lexer": "ipython3",
   "version": "3.8.12"
  },
  "orig_nbformat": 4
 },
 "nbformat": 4,
 "nbformat_minor": 2
}
